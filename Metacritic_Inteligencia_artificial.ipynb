{
  "nbformat": 4,
  "nbformat_minor": 0,
  "metadata": {
    "colab": {
      "name": "Metacritic - Inteligencia artificial Cam.ipynb",
      "provenance": [],
      "collapsed_sections": [],
      "include_colab_link": true
    },
    "kernelspec": {
      "name": "python3",
      "display_name": "Python 3"
    },
    "language_info": {
      "name": "python"
    },
    "accelerator": "TPU"
  },
  "cells": [
    {
      "cell_type": "markdown",
      "metadata": {
        "id": "view-in-github",
        "colab_type": "text"
      },
      "source": [
        "<a href=\"https://colab.research.google.com/github/violetaElCactus/predictGames/blob/main/Metacritic_Inteligencia_artificial.ipynb\" target=\"_parent\"><img src=\"https://colab.research.google.com/assets/colab-badge.svg\" alt=\"Open In Colab\"/></a>"
      ]
    },
    {
      "cell_type": "markdown",
      "metadata": {
        "id": "WvT3OkhOhjxL"
      },
      "source": [
        "#Importar librerías"
      ]
    },
    {
      "cell_type": "code",
      "metadata": {
        "id": "pJdcDVopfkyU",
        "colab": {
          "base_uri": "https://localhost:8080/"
        },
        "outputId": "f68a5d23-d9e7-4a3f-ba53-4b34c5aa77cc"
      },
      "source": [
        "import pandas as pd\n",
        "import tensorflow as tf\n",
        "import numpy as np\n",
        "\n",
        "print(\"Tensorflow: \" + tf.__version__)"
      ],
      "execution_count": 2,
      "outputs": [
        {
          "output_type": "stream",
          "text": [
            "Tensorflow: 2.5.0\n"
          ],
          "name": "stdout"
        }
      ]
    },
    {
      "cell_type": "markdown",
      "metadata": {
        "id": "QdZECm6pi-mi"
      },
      "source": [
        "#Importar los datos"
      ]
    },
    {
      "cell_type": "code",
      "metadata": {
        "colab": {
          "base_uri": "https://localhost:8080/"
        },
        "id": "_tT8HS2tjCZZ",
        "outputId": "ac53b54a-dabc-4d70-a75a-1bdfb61e1fa4"
      },
      "source": [
        "from google.colab import drive\n",
        "drive.mount('/content/drive')\n",
        "#data_juegos = pd.read_csv(\"drive/My Drive/Colab Notebooks/metacritic_game_info.csv\")\n",
        "data_comentarios = pd.read_csv(\"drive/My Drive/Colab Notebooks/metacritic_game_user_comments.csv\")"
      ],
      "execution_count": 3,
      "outputs": [
        {
          "output_type": "stream",
          "text": [
            "Drive already mounted at /content/drive; to attempt to forcibly remount, call drive.mount(\"/content/drive\", force_remount=True).\n"
          ],
          "name": "stdout"
        }
      ]
    },
    {
      "cell_type": "markdown",
      "metadata": {
        "id": "kHLLoqomkY4M"
      },
      "source": [
        "##Información juegos"
      ]
    },
    {
      "cell_type": "code",
      "metadata": {
        "id": "7NqIWMy2jpBj"
      },
      "source": [
        "#data_juegos.head(10)"
      ],
      "execution_count": 4,
      "outputs": []
    },
    {
      "cell_type": "markdown",
      "metadata": {
        "id": "3YyGQtS1kbpH"
      },
      "source": [
        "##Información comentarios"
      ]
    },
    {
      "cell_type": "code",
      "metadata": {
        "colab": {
          "base_uri": "https://localhost:8080/",
          "height": 348
        },
        "id": "Ycb26goBkd_s",
        "outputId": "a55c6340-9b07-43f4-d168-baaaea8db522"
      },
      "source": [
        "data_comentarios.head(10)"
      ],
      "execution_count": 5,
      "outputs": [
        {
          "output_type": "execute_result",
          "data": {
            "text/html": [
              "<div>\n",
              "<style scoped>\n",
              "    .dataframe tbody tr th:only-of-type {\n",
              "        vertical-align: middle;\n",
              "    }\n",
              "\n",
              "    .dataframe tbody tr th {\n",
              "        vertical-align: top;\n",
              "    }\n",
              "\n",
              "    .dataframe thead th {\n",
              "        text-align: right;\n",
              "    }\n",
              "</style>\n",
              "<table border=\"1\" class=\"dataframe\">\n",
              "  <thead>\n",
              "    <tr style=\"text-align: right;\">\n",
              "      <th></th>\n",
              "      <th>Unnamed: 0</th>\n",
              "      <th>Title</th>\n",
              "      <th>Platform</th>\n",
              "      <th>Userscore</th>\n",
              "      <th>Comment</th>\n",
              "      <th>Username</th>\n",
              "    </tr>\n",
              "  </thead>\n",
              "  <tbody>\n",
              "    <tr>\n",
              "      <th>0</th>\n",
              "      <td>0</td>\n",
              "      <td>The Legend of Zelda: Ocarina of Time</td>\n",
              "      <td>Nintendo64</td>\n",
              "      <td>10</td>\n",
              "      <td>Everything in OoT is so near at perfection, it...</td>\n",
              "      <td>SirCaestus</td>\n",
              "    </tr>\n",
              "    <tr>\n",
              "      <th>1</th>\n",
              "      <td>1</td>\n",
              "      <td>The Legend of Zelda: Ocarina of Time</td>\n",
              "      <td>Nintendo64</td>\n",
              "      <td>10</td>\n",
              "      <td>I won't bore you with what everyone is already...</td>\n",
              "      <td>Kaistlin</td>\n",
              "    </tr>\n",
              "    <tr>\n",
              "      <th>2</th>\n",
              "      <td>2</td>\n",
              "      <td>The Legend of Zelda: Ocarina of Time</td>\n",
              "      <td>Nintendo64</td>\n",
              "      <td>10</td>\n",
              "      <td>Anyone who gives the masterpiece below a 7 or ...</td>\n",
              "      <td>Jacody</td>\n",
              "    </tr>\n",
              "    <tr>\n",
              "      <th>3</th>\n",
              "      <td>3</td>\n",
              "      <td>The Legend of Zelda: Ocarina of Time</td>\n",
              "      <td>Nintendo64</td>\n",
              "      <td>10</td>\n",
              "      <td>I'm one of those people who think that this is...</td>\n",
              "      <td>doodlerman</td>\n",
              "    </tr>\n",
              "    <tr>\n",
              "      <th>4</th>\n",
              "      <td>4</td>\n",
              "      <td>The Legend of Zelda: Ocarina of Time</td>\n",
              "      <td>Nintendo64</td>\n",
              "      <td>10</td>\n",
              "      <td>This game is the highest rated game on Metacr...</td>\n",
              "      <td>StevenA</td>\n",
              "    </tr>\n",
              "    <tr>\n",
              "      <th>5</th>\n",
              "      <td>5</td>\n",
              "      <td>The Legend of Zelda: Ocarina of Time</td>\n",
              "      <td>Nintendo64</td>\n",
              "      <td>10</td>\n",
              "      <td>I think it's funny that you have Zelda haters ...</td>\n",
              "      <td>joei1382</td>\n",
              "    </tr>\n",
              "    <tr>\n",
              "      <th>6</th>\n",
              "      <td>6</td>\n",
              "      <td>The Legend of Zelda: Ocarina of Time</td>\n",
              "      <td>Nintendo64</td>\n",
              "      <td>9</td>\n",
              "      <td>I played A Link To The Past so many times in m...</td>\n",
              "      <td>Corvix</td>\n",
              "    </tr>\n",
              "    <tr>\n",
              "      <th>7</th>\n",
              "      <td>7</td>\n",
              "      <td>The Legend of Zelda: Ocarina of Time</td>\n",
              "      <td>Nintendo64</td>\n",
              "      <td>10</td>\n",
              "      <td>The Legend of Zelda: Ocarina of Time is withou...</td>\n",
              "      <td>pittsburghboy91</td>\n",
              "    </tr>\n",
              "    <tr>\n",
              "      <th>8</th>\n",
              "      <td>8</td>\n",
              "      <td>The Legend of Zelda: Ocarina of Time</td>\n",
              "      <td>Nintendo64</td>\n",
              "      <td>10</td>\n",
              "      <td>This review contains spoilers, cli...</td>\n",
              "      <td>Nosidda89</td>\n",
              "    </tr>\n",
              "    <tr>\n",
              "      <th>9</th>\n",
              "      <td>9</td>\n",
              "      <td>The Legend of Zelda: Ocarina of Time</td>\n",
              "      <td>Nintendo64</td>\n",
              "      <td>10</td>\n",
              "      <td>I'm not kidding when I say that this is the on...</td>\n",
              "      <td>Regeneration13</td>\n",
              "    </tr>\n",
              "  </tbody>\n",
              "</table>\n",
              "</div>"
            ],
            "text/plain": [
              "   Unnamed: 0  ...         Username\n",
              "0           0  ...       SirCaestus\n",
              "1           1  ...         Kaistlin\n",
              "2           2  ...           Jacody\n",
              "3           3  ...       doodlerman\n",
              "4           4  ...          StevenA\n",
              "5           5  ...         joei1382\n",
              "6           6  ...           Corvix\n",
              "7           7  ...  pittsburghboy91\n",
              "8           8  ...        Nosidda89\n",
              "9           9  ...   Regeneration13\n",
              "\n",
              "[10 rows x 6 columns]"
            ]
          },
          "metadata": {
            "tags": []
          },
          "execution_count": 5
        }
      ]
    },
    {
      "cell_type": "code",
      "metadata": {
        "colab": {
          "base_uri": "https://localhost:8080/",
          "height": 370
        },
        "id": "hdfSAMNQHSht",
        "outputId": "94486360-6c44-4908-ccf8-8a9bcb1a2ed5"
      },
      "source": [
        "import seaborn as sns\n",
        "\n",
        "temp=pd.DataFrame(data_comentarios.Userscore.value_counts())\n",
        "temp.sort_index(inplace=True)\n",
        "temp.columns=['Number of reviews']\n",
        "clrs=['red' if (x > 5000) else 'lightcoral' for x in temp['Number of reviews'] ] #highlight bars\n",
        "sns.countplot(data=data_comentarios,x='Userscore',palette=clrs) \n",
        "print(temp.T)\n",
        "print('Mean score: ', data_comentarios.Userscore.mean())"
      ],
      "execution_count": 6,
      "outputs": [
        {
          "output_type": "stream",
          "text": [
            "                      0     1     2     3   ...     7      8      9       10\n",
            "Number of reviews  20120  7318  5983  7118  ...  17052  30271  53489  112531\n",
            "\n",
            "[1 rows x 11 columns]\n",
            "Mean score:  7.6183081381632\n"
          ],
          "name": "stdout"
        },
        {
          "output_type": "display_data",
          "data": {
            "image/png": "[encoded data removed]",
            "text/plain": [
              "<Figure size 432x288 with 1 Axes>"
            ]
          },
          "metadata": {
            "tags": [],
            "needs_background": "light"
          }
        }
      ]
    },
    {
      "cell_type": "code",
      "metadata": {
        "id": "E4ZJ0NiPmz-j"
      },
      "source": [
        "data_comentarios = data_comentarios[data_comentarios['Comment'].str.len() > 280] #Comentario más largo que un Tweet.\n"
      ],
      "execution_count": 7,
      "outputs": []
    },
    {
      "cell_type": "code",
      "metadata": {
        "id": "QZBRuImP3Rzd"
      },
      "source": [
        "data_comentarios = data_comentarios[data_comentarios['Comment'].map(lambda x: x.isascii())]\n"
      ],
      "execution_count": 8,
      "outputs": []
    },
    {
      "cell_type": "code",
      "metadata": {
        "id": "6oN1VoFTFseI"
      },
      "source": [
        "data_comentarios[\"Comment\"] = data_comentarios[\"Comment\"].str.lower()\n"
      ],
      "execution_count": 9,
      "outputs": []
    },
    {
      "cell_type": "code",
      "metadata": {
        "id": "pFE4AG7j3YXE"
      },
      "source": [
        "df1 = data_comentarios.iloc[:60000]"
      ],
      "execution_count": 10,
      "outputs": []
    },
    {
      "cell_type": "code",
      "metadata": {
        "colab": {
          "base_uri": "https://localhost:8080/"
        },
        "id": "oQkzD4_Gw1fb",
        "outputId": "8eaef3ba-b283-4f71-d791-eed0d4d22782"
      },
      "source": [
        "len(df1)"
      ],
      "execution_count": 11,
      "outputs": [
        {
          "output_type": "execute_result",
          "data": {
            "text/plain": [
              "60000"
            ]
          },
          "metadata": {
            "tags": []
          },
          "execution_count": 11
        }
      ]
    },
    {
      "cell_type": "code",
      "metadata": {
        "id": "Gsb0ADz_3drs",
        "colab": {
          "base_uri": "https://localhost:8080/"
        },
        "outputId": "393ed78d-9b82-4cf3-f40c-5f36de7774a7"
      },
      "source": [
        "df1.drop(['Unnamed: 0','Username','Title','Platform'], axis=1, inplace=True)\n"
      ],
      "execution_count": 12,
      "outputs": [
        {
          "output_type": "stream",
          "text": [
            "/usr/local/lib/python3.7/dist-packages/pandas/core/frame.py:4174: SettingWithCopyWarning: \n",
            "A value is trying to be set on a copy of a slice from a DataFrame\n",
            "\n",
            "See the caveats in the documentation: https://pandas.pydata.org/pandas-docs/stable/user_guide/indexing.html#returning-a-view-versus-a-copy\n",
            "  errors=errors,\n"
          ],
          "name": "stderr"
        }
      ]
    },
    {
      "cell_type": "code",
      "metadata": {
        "colab": {
          "base_uri": "https://localhost:8080/",
          "height": 348
        },
        "id": "NeJWfShE4lI1",
        "outputId": "618b2205-83b9-4cf8-dcfa-dd48ceeda045"
      },
      "source": [
        "df1.head(10)\n"
      ],
      "execution_count": 13,
      "outputs": [
        {
          "output_type": "execute_result",
          "data": {
            "text/html": [
              "<div>\n",
              "<style scoped>\n",
              "    .dataframe tbody tr th:only-of-type {\n",
              "        vertical-align: middle;\n",
              "    }\n",
              "\n",
              "    .dataframe tbody tr th {\n",
              "        vertical-align: top;\n",
              "    }\n",
              "\n",
              "    .dataframe thead th {\n",
              "        text-align: right;\n",
              "    }\n",
              "</style>\n",
              "<table border=\"1\" class=\"dataframe\">\n",
              "  <thead>\n",
              "    <tr style=\"text-align: right;\">\n",
              "      <th></th>\n",
              "      <th>Userscore</th>\n",
              "      <th>Comment</th>\n",
              "    </tr>\n",
              "  </thead>\n",
              "  <tbody>\n",
              "    <tr>\n",
              "      <th>2</th>\n",
              "      <td>10</td>\n",
              "      <td>anyone who gives the masterpiece below a 7 or ...</td>\n",
              "    </tr>\n",
              "    <tr>\n",
              "      <th>3</th>\n",
              "      <td>10</td>\n",
              "      <td>i'm one of those people who think that this is...</td>\n",
              "    </tr>\n",
              "    <tr>\n",
              "      <th>4</th>\n",
              "      <td>10</td>\n",
              "      <td>this game is the highest rated game on metacr...</td>\n",
              "    </tr>\n",
              "    <tr>\n",
              "      <th>5</th>\n",
              "      <td>10</td>\n",
              "      <td>i think it's funny that you have zelda haters ...</td>\n",
              "    </tr>\n",
              "    <tr>\n",
              "      <th>7</th>\n",
              "      <td>10</td>\n",
              "      <td>the legend of zelda: ocarina of time is withou...</td>\n",
              "    </tr>\n",
              "    <tr>\n",
              "      <th>8</th>\n",
              "      <td>10</td>\n",
              "      <td>this review contains spoilers, cli...</td>\n",
              "    </tr>\n",
              "    <tr>\n",
              "      <th>9</th>\n",
              "      <td>10</td>\n",
              "      <td>i'm not kidding when i say that this is the on...</td>\n",
              "    </tr>\n",
              "    <tr>\n",
              "      <th>10</th>\n",
              "      <td>10</td>\n",
              "      <td>essentially one of the best games of all time,...</td>\n",
              "    </tr>\n",
              "    <tr>\n",
              "      <th>11</th>\n",
              "      <td>10</td>\n",
              "      <td>this is the perfect game ! no doubt. the gamep...</td>\n",
              "    </tr>\n",
              "    <tr>\n",
              "      <th>16</th>\n",
              "      <td>10</td>\n",
              "      <td>amazing game in every aspect, i just want to ...</td>\n",
              "    </tr>\n",
              "  </tbody>\n",
              "</table>\n",
              "</div>"
            ],
            "text/plain": [
              "    Userscore                                            Comment\n",
              "2          10  anyone who gives the masterpiece below a 7 or ...\n",
              "3          10  i'm one of those people who think that this is...\n",
              "4          10   this game is the highest rated game on metacr...\n",
              "5          10  i think it's funny that you have zelda haters ...\n",
              "7          10  the legend of zelda: ocarina of time is withou...\n",
              "8          10              this review contains spoilers, cli...\n",
              "9          10  i'm not kidding when i say that this is the on...\n",
              "10         10  essentially one of the best games of all time,...\n",
              "11         10  this is the perfect game ! no doubt. the gamep...\n",
              "16         10   amazing game in every aspect, i just want to ..."
            ]
          },
          "metadata": {
            "tags": []
          },
          "execution_count": 13
        }
      ]
    },
    {
      "cell_type": "markdown",
      "metadata": {
        "id": "KkxonvM-GLnA"
      },
      "source": [
        "#Dividir los datos en entrenamiento, validación y prueba\n",
        "\n",
        "\n"
      ]
    },
    {
      "cell_type": "code",
      "metadata": {
        "id": "bx154zm9GNnN"
      },
      "source": [
        "train, validate, test = np.split(df1.sample(frac=1), [int(.7*len(df1)), int(.8*len(df1))])\n"
      ],
      "execution_count": 14,
      "outputs": []
    },
    {
      "cell_type": "code",
      "metadata": {
        "id": "EpPFfvTXNv04"
      },
      "source": [
        "train_comments = train['Comment']\n",
        "train_labels = train['Userscore']\n",
        "validate_comments = validate['Comment']\n",
        "validate_labels = validate['Userscore']\n",
        "test_comments = test['Comment']\n",
        "test_labels = test['Userscore']"
      ],
      "execution_count": 15,
      "outputs": []
    },
    {
      "cell_type": "markdown",
      "metadata": {
        "id": "Tv5guVQjRq9N"
      },
      "source": [
        "#Tokenizer\n"
      ]
    },
    {
      "cell_type": "code",
      "metadata": {
        "id": "gchiozDHStaL"
      },
      "source": [
        "import keras\n",
        "from keras.preprocessing.text import Tokenizer\n"
      ],
      "execution_count": 16,
      "outputs": []
    },
    {
      "cell_type": "code",
      "metadata": {
        "id": "EANmRKRZRg2U"
      },
      "source": [
        "vocab_size = 12000\n",
        "tokenize = Tokenizer(num_words=vocab_size, char_level=False)\n",
        "tokenize.fit_on_texts(df1['Comment'])"
      ],
      "execution_count": 17,
      "outputs": []
    },
    {
      "cell_type": "code",
      "metadata": {
        "id": "uK3_F3yTq4D1"
      },
      "source": [
        "matrix = tokenize.texts_to_matrix(train_comments, mode = 'binary')"
      ],
      "execution_count": 18,
      "outputs": []
    },
    {
      "cell_type": "code",
      "metadata": {
        "id": "ry5eE0kKU8Vo"
      },
      "source": [
        "matrixVal = tokenize.texts_to_matrix(validate_comments, mode = 'binary')"
      ],
      "execution_count": 19,
      "outputs": []
    },
    {
      "cell_type": "code",
      "metadata": {
        "id": "CNxjCl7uVEYl"
      },
      "source": [
        "matrixTest = tokenize.texts_to_matrix(test_comments, mode = 'binary')"
      ],
      "execution_count": 20,
      "outputs": []
    },
    {
      "cell_type": "markdown",
      "metadata": {
        "id": "hC1gMoMFUXsW"
      },
      "source": [
        "#Modelo"
      ]
    },
    {
      "cell_type": "code",
      "metadata": {
        "id": "dnntIn3ZTMOC"
      },
      "source": [
        "from tensorflow.keras import models\n",
        "from tensorflow.keras import layers\n",
        "from tensorflow.keras.utils import to_categorical\n",
        "from tensorflow.keras.layers import Dropout, Dense\n",
        "from tensorflow.keras.callbacks import EarlyStopping \n",
        "from tensorflow.keras import regularizers"
      ],
      "execution_count": 21,
      "outputs": []
    },
    {
      "cell_type": "code",
      "metadata": {
        "id": "7bDCCFCwmF8N"
      },
      "source": [
        "es = EarlyStopping(monitor='val_accuracy', mode='max', patience= 3, verbose= 1)"
      ],
      "execution_count": 22,
      "outputs": []
    },
    {
      "cell_type": "code",
      "metadata": {
        "id": "8upzlqpiUpwA"
      },
      "source": [
        "#y_train_vec = to_categorical(train_labels, num_classes=11)\n",
        "#y_validate_vec = to_categorical(validate_labels,num_classes=11)\n",
        "#y_test_vec = to_categorical(test_labels,num_classes=11)"
      ],
      "execution_count": 22,
      "outputs": []
    },
    {
      "cell_type": "code",
      "metadata": {
        "id": "dYtW2oiIrhpj"
      },
      "source": [
        "train_lab_sp = np.array(train_labels)\n",
        "val_lab_sp = np.array(validate_labels)\n",
        "test_lab_sp = np.array(test_labels)"
      ],
      "execution_count": 23,
      "outputs": []
    },
    {
      "cell_type": "code",
      "metadata": {
        "id": "TlgLmsbc09YN"
      },
      "source": [
        "modelMtx = models.Sequential()\n",
        "modelMtx.add(layers.Dense(16, kernel_regularizer=regularizers.l2(0.001), activation='relu', input_shape=(12000,)))\n",
        "modelMtx.add(layers.Dense(16,activation='relu'))\n",
        "modelMtx.add(layers.Dense(16,activation='relu'))\n",
        "modelMtx.add(layers.Dense(11, activation='softmax'))\n",
        "modelMtx.compile(loss='sparse_categorical_crossentropy', optimizer='adam', metrics=['accuracy'])"
      ],
      "execution_count": 24,
      "outputs": []
    },
    {
      "cell_type": "code",
      "metadata": {
        "colab": {
          "base_uri": "https://localhost:8080/"
        },
        "id": "1pfm1PQR1lIQ",
        "outputId": "a6e77280-9b62-4dcf-c37a-38e2899b32a6"
      },
      "source": [
        "history = modelMtx.fit(matrix, train_lab_sp, epochs=20, validation_data=(matrixVal,val_lab_sp), callbacks= [es])"
      ],
      "execution_count": 25,
      "outputs": [
        {
          "output_type": "stream",
          "text": [
            "Epoch 1/20\n",
            "1313/1313 [==============================] - 11s 8ms/step - loss: 1.4630 - accuracy: 0.5063 - mae: 8.0471 - val_loss: 1.3450 - val_accuracy: 0.5428 - val_mae: 8.0252\n",
            "Epoch 2/20\n",
            "1313/1313 [==============================] - 8s 6ms/step - loss: 1.2866 - accuracy: 0.5601 - mae: 8.0471 - val_loss: 1.3308 - val_accuracy: 0.5435 - val_mae: 8.0252\n",
            "Epoch 3/20\n",
            "1313/1313 [==============================] - 9s 7ms/step - loss: 1.2507 - accuracy: 0.5758 - mae: 8.0471 - val_loss: 1.3484 - val_accuracy: 0.5467 - val_mae: 8.0252\n",
            "Epoch 4/20\n",
            "1313/1313 [==============================] - 8s 6ms/step - loss: 1.2301 - accuracy: 0.5883 - mae: 8.0471 - val_loss: 1.3698 - val_accuracy: 0.5392 - val_mae: 8.0252\n",
            "Epoch 5/20\n",
            "1313/1313 [==============================] - 9s 7ms/step - loss: 1.2113 - accuracy: 0.5990 - mae: 8.0471 - val_loss: 1.4093 - val_accuracy: 0.5448 - val_mae: 8.0252\n",
            "Epoch 6/20\n",
            "1313/1313 [==============================] - 9s 7ms/step - loss: 1.1913 - accuracy: 0.6105 - mae: 8.0471 - val_loss: 1.4172 - val_accuracy: 0.5413 - val_mae: 8.0252\n",
            "Epoch 00006: early stopping\n"
          ],
          "name": "stdout"
        }
      ]
    },
    {
      "cell_type": "markdown",
      "metadata": {
        "id": "je3j4Mo9SfrC"
      },
      "source": [
        "#Evaluación del modelo\n"
      ]
    },
    {
      "cell_type": "code",
      "metadata": {
        "colab": {
          "base_uri": "https://localhost:8080/"
        },
        "id": "P0gu93LWSio9",
        "outputId": "5b5fc348-ed7a-4baf-ef18-7820e9fa71ef"
      },
      "source": [
        "m = modelMtx.evaluate(matrixTest, test_lab_sp)"
      ],
      "execution_count": 26,
      "outputs": [
        {
          "output_type": "stream",
          "text": [
            "375/375 [==============================] - 2s 4ms/step - loss: 1.4166 - accuracy: 0.5490 - mae: 8.0165\n"
          ],
          "name": "stdout"
        }
      ]
    },
    {
      "cell_type": "code",
      "metadata": {
        "colab": {
          "base_uri": "https://localhost:8080/"
        },
        "id": "jxHwS62dTZkB",
        "outputId": "51817a6f-238b-464e-a10d-77cbcbdbeca5"
      },
      "source": [
        "m"
      ],
      "execution_count": 28,
      "outputs": [
        {
          "output_type": "execute_result",
          "data": {
            "text/plain": [
              "[1.4166456460952759, 0.5490000247955322, 8.016522407531738]"
            ]
          },
          "metadata": {
            "tags": []
          },
          "execution_count": 28
        }
      ]
    },
    {
      "cell_type": "markdown",
      "metadata": {
        "id": "uWr2TNH9096B"
      },
      "source": [
        "#Prueba"
      ]
    },
    {
      "cell_type": "code",
      "metadata": {
        "id": "O0bo2tU_2ijU"
      },
      "source": [
        "predictionsMtx = modelMtx.predict(matrixTest)"
      ],
      "execution_count": 27,
      "outputs": []
    },
    {
      "cell_type": "code",
      "metadata": {
        "colab": {
          "base_uri": "https://localhost:8080/"
        },
        "id": "3pFu7LxtzIE8",
        "outputId": "6495cf5a-cecb-4fcc-b0f8-4c032a4e05bc"
      },
      "source": [
        "np.argmax(predictionsMtx[2])\n"
      ],
      "execution_count": 78,
      "outputs": [
        {
          "output_type": "execute_result",
          "data": {
            "text/plain": [
              "6"
            ]
          },
          "metadata": {
            "tags": []
          },
          "execution_count": 78
        }
      ]
    },
    {
      "cell_type": "code",
      "metadata": {
        "colab": {
          "base_uri": "https://localhost:8080/"
        },
        "id": "DjHayeUA253A",
        "outputId": "5a98fdab-2ac1-4e9a-bf88-b1b11064ff13"
      },
      "source": [
        "test_labels.iloc[2]"
      ],
      "execution_count": 79,
      "outputs": [
        {
          "output_type": "execute_result",
          "data": {
            "text/plain": [
              "6"
            ]
          },
          "metadata": {
            "tags": []
          },
          "execution_count": 79
        }
      ]
    },
    {
      "cell_type": "code",
      "metadata": {
        "colab": {
          "base_uri": "https://localhost:8080/",
          "height": 145
        },
        "id": "5REH_1S53OQg",
        "outputId": "e617a20a-b874-4ee5-9702-d4902bc8aa01"
      },
      "source": [
        "test_comments.iloc[2]"
      ],
      "execution_count": 80,
      "outputs": [
        {
          "output_type": "execute_result",
          "data": {
            "application/vnd.google.colaboratory.intrinsic+json": {
              "type": "string"
            },
            "text/plain": [
              "' the port is horrible. graphics look horrible when not driving around (then the game actually looks great) in your car that loses grip at every corner. euphoria is really fun, but not long lasting fun. the controls are quite horrible at times, the main character is boring, npcs are luckily much better made, quite a few missions are just tedious and the cellphone and \"friends\" are retarded. the port is horrible. graphics look horrible when not driving around (then the game actually looks great) in your car that loses grip at every corner. euphoria is really fun, but not long lasting fun. the controls are quite horrible at times, the main character is boring, npcs are luckily much better made, quite a few missions are just tedious and the cellphone and \"friends\" are retarded. i have no interest in playing mini-games, ever. the story would be good, if only the missions weren\\'t so shitty that you often forgot why you were even doing them. but, it was fun at quite a few times, and once you imagine that perhaps the rubber factory in town sucks at making tires, driving gets quite fun. you still wish niko could shift gears properly though. all in all, even with all the shit hiding in every corner, there is the fact that i did actually enjoy the game quite often. it\\'s not a bad game, but it\\'s not really a good game either, there is little from the previous gta games to be found, but somehow i feel like \"at least they tried\". a weak 6.'"
            ]
          },
          "metadata": {
            "tags": []
          },
          "execution_count": 80
        }
      ]
    },
    {
      "cell_type": "code",
      "metadata": {
        "colab": {
          "base_uri": "https://localhost:8080/"
        },
        "id": "XOok3JzXzDQn",
        "outputId": "ea316c4c-ede6-4758-adab-71979707cb0a"
      },
      "source": [
        "suma = 0\n",
        "for i in range(len(predictionsMtx)):\n",
        "  suma += abs(np.argmax(predictionsMtx[i]) - test_labels.iloc[i])\n",
        "error = suma/len(predictionsMtx)\n",
        "print(error)  "
      ],
      "execution_count": 55,
      "outputs": [
        {
          "output_type": "stream",
          "text": [
            "1.047\n"
          ],
          "name": "stdout"
        }
      ]
    }
  ]
}