{
  "nbformat": 4,
  "nbformat_minor": 0,
  "metadata": {
    "colab": {
      "name": "Metacritic - Inteligencia artificial Cam.ipynb",
      "provenance": [],
      "collapsed_sections": [],
      "include_colab_link": true
    },
    "kernelspec": {
      "name": "python3",
      "display_name": "Python 3"
    },
    "language_info": {
      "name": "python"
    },
    "accelerator": "TPU"
  },
  "cells": [
    {
      "cell_type": "markdown",
      "metadata": {
        "id": "view-in-github",
        "colab_type": "text"
      },
      "source": [
        "<a href=\"https://colab.research.google.com/github/violetaElCactus/predictGames/blob/main/Metacritic_Inteligencia_artificial.ipynb\" target=\"_parent\"><img src=\"https://colab.research.google.com/assets/colab-badge.svg\" alt=\"Open In Colab\"/></a>"
      ]
    },
    {
      "cell_type": "markdown",
      "metadata": {
        "id": "WvT3OkhOhjxL"
      },
      "source": [
        "#Importar librerías"
      ]
    },
    {
      "cell_type": "code",
      "metadata": {
        "id": "pJdcDVopfkyU",
        "colab": {
          "base_uri": "https://localhost:8080/"
        },
        "outputId": "d9b1af25-4e0d-4826-8230-1c63140951a7"
      },
      "source": [
        "import pandas as pd\n",
        "import tensorflow as tf\n",
        "import numpy as np\n",
        "\n",
        "print(\"Tensorflow: \" + tf.__version__)"
      ],
      "execution_count": null,
      "outputs": [
        {
          "output_type": "stream",
          "text": [
            "Tensorflow: 2.5.0\n"
          ],
          "name": "stdout"
        }
      ]
    },
    {
      "cell_type": "markdown",
      "metadata": {
        "id": "QdZECm6pi-mi"
      },
      "source": [
        "#Importar los datos"
      ]
    },
    {
      "cell_type": "code",
      "metadata": {
        "colab": {
          "base_uri": "https://localhost:8080/"
        },
        "id": "_tT8HS2tjCZZ",
        "outputId": "2d17f652-1b18-4c33-d398-eefe696d929c"
      },
      "source": [
        "from google.colab import drive\n",
        "drive.mount('/content/drive')\n",
        "#data_juegos = pd.read_csv(\"drive/My Drive/Colab Notebooks/metacritic_game_info.csv\")\n",
        "data_comentarios = pd.read_csv(\"drive/My Drive/Colab Notebooks/metacritic_game_user_comments.csv\")"
      ],
      "execution_count": null,
      "outputs": [
        {
          "output_type": "stream",
          "text": [
            "Drive already mounted at /content/drive; to attempt to forcibly remount, call drive.mount(\"/content/drive\", force_remount=True).\n"
          ],
          "name": "stdout"
        }
      ]
    },
    {
      "cell_type": "markdown",
      "metadata": {
        "id": "kHLLoqomkY4M"
      },
      "source": [
        "##Información juegos"
      ]
    },
    {
      "cell_type": "code",
      "metadata": {
        "id": "7NqIWMy2jpBj"
      },
      "source": [
        "#data_juegos.head(10)"
      ],
      "execution_count": null,
      "outputs": []
    },
    {
      "cell_type": "markdown",
      "metadata": {
        "id": "3YyGQtS1kbpH"
      },
      "source": [
        "##Información comentarios"
      ]
    },
    {
      "cell_type": "code",
      "metadata": {
        "colab": {
          "base_uri": "https://localhost:8080/",
          "height": 359
        },
        "id": "Ycb26goBkd_s",
        "outputId": "114bd453-47fa-48dc-a71e-cc0007e5041c"
      },
      "source": [
        "data_comentarios.head(10)"
      ],
      "execution_count": null,
      "outputs": [
        {
          "output_type": "execute_result",
          "data": {
            "text/html": [
              "<div>\n",
              "<style scoped>\n",
              "    .dataframe tbody tr th:only-of-type {\n",
              "        vertical-align: middle;\n",
              "    }\n",
              "\n",
              "    .dataframe tbody tr th {\n",
              "        vertical-align: top;\n",
              "    }\n",
              "\n",
              "    .dataframe thead th {\n",
              "        text-align: right;\n",
              "    }\n",
              "</style>\n",
              "<table border=\"1\" class=\"dataframe\">\n",
              "  <thead>\n",
              "    <tr style=\"text-align: right;\">\n",
              "      <th></th>\n",
              "      <th>Unnamed: 0</th>\n",
              "      <th>Title</th>\n",
              "      <th>Platform</th>\n",
              "      <th>Userscore</th>\n",
              "      <th>Comment</th>\n",
              "      <th>Username</th>\n",
              "    </tr>\n",
              "  </thead>\n",
              "  <tbody>\n",
              "    <tr>\n",
              "      <th>0</th>\n",
              "      <td>0</td>\n",
              "      <td>The Legend of Zelda: Ocarina of Time</td>\n",
              "      <td>Nintendo64</td>\n",
              "      <td>10</td>\n",
              "      <td>Everything in OoT is so near at perfection, it...</td>\n",
              "      <td>SirCaestus</td>\n",
              "    </tr>\n",
              "    <tr>\n",
              "      <th>1</th>\n",
              "      <td>1</td>\n",
              "      <td>The Legend of Zelda: Ocarina of Time</td>\n",
              "      <td>Nintendo64</td>\n",
              "      <td>10</td>\n",
              "      <td>I won't bore you with what everyone is already...</td>\n",
              "      <td>Kaistlin</td>\n",
              "    </tr>\n",
              "    <tr>\n",
              "      <th>2</th>\n",
              "      <td>2</td>\n",
              "      <td>The Legend of Zelda: Ocarina of Time</td>\n",
              "      <td>Nintendo64</td>\n",
              "      <td>10</td>\n",
              "      <td>Anyone who gives the masterpiece below a 7 or ...</td>\n",
              "      <td>Jacody</td>\n",
              "    </tr>\n",
              "    <tr>\n",
              "      <th>3</th>\n",
              "      <td>3</td>\n",
              "      <td>The Legend of Zelda: Ocarina of Time</td>\n",
              "      <td>Nintendo64</td>\n",
              "      <td>10</td>\n",
              "      <td>I'm one of those people who think that this is...</td>\n",
              "      <td>doodlerman</td>\n",
              "    </tr>\n",
              "    <tr>\n",
              "      <th>4</th>\n",
              "      <td>4</td>\n",
              "      <td>The Legend of Zelda: Ocarina of Time</td>\n",
              "      <td>Nintendo64</td>\n",
              "      <td>10</td>\n",
              "      <td>This game is the highest rated game on Metacr...</td>\n",
              "      <td>StevenA</td>\n",
              "    </tr>\n",
              "    <tr>\n",
              "      <th>5</th>\n",
              "      <td>5</td>\n",
              "      <td>The Legend of Zelda: Ocarina of Time</td>\n",
              "      <td>Nintendo64</td>\n",
              "      <td>10</td>\n",
              "      <td>I think it's funny that you have Zelda haters ...</td>\n",
              "      <td>joei1382</td>\n",
              "    </tr>\n",
              "    <tr>\n",
              "      <th>6</th>\n",
              "      <td>6</td>\n",
              "      <td>The Legend of Zelda: Ocarina of Time</td>\n",
              "      <td>Nintendo64</td>\n",
              "      <td>9</td>\n",
              "      <td>I played A Link To The Past so many times in m...</td>\n",
              "      <td>Corvix</td>\n",
              "    </tr>\n",
              "    <tr>\n",
              "      <th>7</th>\n",
              "      <td>7</td>\n",
              "      <td>The Legend of Zelda: Ocarina of Time</td>\n",
              "      <td>Nintendo64</td>\n",
              "      <td>10</td>\n",
              "      <td>The Legend of Zelda: Ocarina of Time is withou...</td>\n",
              "      <td>pittsburghboy91</td>\n",
              "    </tr>\n",
              "    <tr>\n",
              "      <th>8</th>\n",
              "      <td>8</td>\n",
              "      <td>The Legend of Zelda: Ocarina of Time</td>\n",
              "      <td>Nintendo64</td>\n",
              "      <td>10</td>\n",
              "      <td>This review contains spoilers, cli...</td>\n",
              "      <td>Nosidda89</td>\n",
              "    </tr>\n",
              "    <tr>\n",
              "      <th>9</th>\n",
              "      <td>9</td>\n",
              "      <td>The Legend of Zelda: Ocarina of Time</td>\n",
              "      <td>Nintendo64</td>\n",
              "      <td>10</td>\n",
              "      <td>I'm not kidding when I say that this is the on...</td>\n",
              "      <td>Regeneration13</td>\n",
              "    </tr>\n",
              "  </tbody>\n",
              "</table>\n",
              "</div>"
            ],
            "text/plain": [
              "   Unnamed: 0  ...         Username\n",
              "0           0  ...       SirCaestus\n",
              "1           1  ...         Kaistlin\n",
              "2           2  ...           Jacody\n",
              "3           3  ...       doodlerman\n",
              "4           4  ...          StevenA\n",
              "5           5  ...         joei1382\n",
              "6           6  ...           Corvix\n",
              "7           7  ...  pittsburghboy91\n",
              "8           8  ...        Nosidda89\n",
              "9           9  ...   Regeneration13\n",
              "\n",
              "[10 rows x 6 columns]"
            ]
          },
          "metadata": {
            "tags": []
          },
          "execution_count": 4
        }
      ]
    },
    {
      "cell_type": "code",
      "metadata": {
        "colab": {
          "base_uri": "https://localhost:8080/",
          "height": 364
        },
        "id": "hdfSAMNQHSht",
        "outputId": "230b7f77-e6ee-404f-e39e-b44519bf25f3"
      },
      "source": [
        "import seaborn as sns\n",
        "\n",
        "temp=pd.DataFrame(data_comentarios.Userscore.value_counts())\n",
        "temp.sort_index(inplace=True)\n",
        "temp.columns=['Number of reviews']\n",
        "clrs=['red' if (x > 5000) else 'lightcoral' for x in temp['Number of reviews'] ] #highlight bars\n",
        "sns.countplot(data=data_comentarios,x='Userscore',palette=clrs) \n",
        "print(temp.T)\n",
        "print('Mean score: ', data_comentarios.Userscore.mean())"
      ],
      "execution_count": null,
      "outputs": [
        {
          "output_type": "stream",
          "text": [
            "                      0     1     2     3   ...     7      8      9       10\n",
            "Number of reviews  20120  7318  5983  7118  ...  17052  30271  53489  112531\n",
            "\n",
            "[1 rows x 11 columns]\n",
            "Mean score:  7.6183081381632\n"
          ],
          "name": "stdout"
        },
        {
          "output_type": "display_data",
          "data": {
            "image/png": "[encoded data removed]",
            "text/plain": [
              "<Figure size 432x288 with 1 Axes>"
            ]
          },
          "metadata": {
            "tags": [],
            "needs_background": "light"
          }
        }
      ]
    },
    {
      "cell_type": "code",
      "metadata": {
        "id": "E4ZJ0NiPmz-j"
      },
      "source": [
        "data_comentarios = data_comentarios[data_comentarios['Comment'].str.len() > 280] #Comentario más largo que un Tweet.\n"
      ],
      "execution_count": null,
      "outputs": []
    },
    {
      "cell_type": "code",
      "metadata": {
        "id": "QZBRuImP3Rzd"
      },
      "source": [
        "data_comentarios = data_comentarios[data_comentarios['Comment'].map(lambda x: x.isascii())]\n"
      ],
      "execution_count": null,
      "outputs": []
    },
    {
      "cell_type": "code",
      "metadata": {
        "id": "6oN1VoFTFseI"
      },
      "source": [
        "data_comentarios[\"Comment\"] = data_comentarios[\"Comment\"].str.lower()\n"
      ],
      "execution_count": null,
      "outputs": []
    },
    {
      "cell_type": "code",
      "metadata": {
        "id": "pFE4AG7j3YXE"
      },
      "source": [
        "df1 = data_comentarios.iloc[:60000]"
      ],
      "execution_count": null,
      "outputs": []
    },
    {
      "cell_type": "code",
      "metadata": {
        "colab": {
          "base_uri": "https://localhost:8080/"
        },
        "id": "oQkzD4_Gw1fb",
        "outputId": "e51ff0b5-b937-4562-ad9b-2d9408471d32"
      },
      "source": [
        "len(df1)"
      ],
      "execution_count": null,
      "outputs": [
        {
          "output_type": "execute_result",
          "data": {
            "text/plain": [
              "60000"
            ]
          },
          "metadata": {
            "tags": []
          },
          "execution_count": 10
        }
      ]
    },
    {
      "cell_type": "code",
      "metadata": {
        "id": "Gsb0ADz_3drs",
        "colab": {
          "base_uri": "https://localhost:8080/"
        },
        "outputId": "ccc2f1d0-ff70-4f34-eb31-a2c6104c82eb"
      },
      "source": [
        "df1.drop(['Unnamed: 0','Username','Title','Platform'], axis=1, inplace=True)\n"
      ],
      "execution_count": null,
      "outputs": [
        {
          "output_type": "stream",
          "text": [
            "/usr/local/lib/python3.7/dist-packages/pandas/core/frame.py:4174: SettingWithCopyWarning: \n",
            "A value is trying to be set on a copy of a slice from a DataFrame\n",
            "\n",
            "See the caveats in the documentation: https://pandas.pydata.org/pandas-docs/stable/user_guide/indexing.html#returning-a-view-versus-a-copy\n",
            "  errors=errors,\n"
          ],
          "name": "stderr"
        }
      ]
    },
    {
      "cell_type": "code",
      "metadata": {
        "colab": {
          "base_uri": "https://localhost:8080/",
          "height": 359
        },
        "id": "NeJWfShE4lI1",
        "outputId": "46e68b3a-e7ad-4b54-b37e-aa8fd5368a5c"
      },
      "source": [
        "df1.head(10)\n"
      ],
      "execution_count": null,
      "outputs": [
        {
          "output_type": "execute_result",
          "data": {
            "text/html": [
              "<div>\n",
              "<style scoped>\n",
              "    .dataframe tbody tr th:only-of-type {\n",
              "        vertical-align: middle;\n",
              "    }\n",
              "\n",
              "    .dataframe tbody tr th {\n",
              "        vertical-align: top;\n",
              "    }\n",
              "\n",
              "    .dataframe thead th {\n",
              "        text-align: right;\n",
              "    }\n",
              "</style>\n",
              "<table border=\"1\" class=\"dataframe\">\n",
              "  <thead>\n",
              "    <tr style=\"text-align: right;\">\n",
              "      <th></th>\n",
              "      <th>Userscore</th>\n",
              "      <th>Comment</th>\n",
              "    </tr>\n",
              "  </thead>\n",
              "  <tbody>\n",
              "    <tr>\n",
              "      <th>2</th>\n",
              "      <td>10</td>\n",
              "      <td>anyone who gives the masterpiece below a 7 or ...</td>\n",
              "    </tr>\n",
              "    <tr>\n",
              "      <th>3</th>\n",
              "      <td>10</td>\n",
              "      <td>i'm one of those people who think that this is...</td>\n",
              "    </tr>\n",
              "    <tr>\n",
              "      <th>4</th>\n",
              "      <td>10</td>\n",
              "      <td>this game is the highest rated game on metacr...</td>\n",
              "    </tr>\n",
              "    <tr>\n",
              "      <th>5</th>\n",
              "      <td>10</td>\n",
              "      <td>i think it's funny that you have zelda haters ...</td>\n",
              "    </tr>\n",
              "    <tr>\n",
              "      <th>7</th>\n",
              "      <td>10</td>\n",
              "      <td>the legend of zelda: ocarina of time is withou...</td>\n",
              "    </tr>\n",
              "    <tr>\n",
              "      <th>8</th>\n",
              "      <td>10</td>\n",
              "      <td>this review contains spoilers, cli...</td>\n",
              "    </tr>\n",
              "    <tr>\n",
              "      <th>9</th>\n",
              "      <td>10</td>\n",
              "      <td>i'm not kidding when i say that this is the on...</td>\n",
              "    </tr>\n",
              "    <tr>\n",
              "      <th>10</th>\n",
              "      <td>10</td>\n",
              "      <td>essentially one of the best games of all time,...</td>\n",
              "    </tr>\n",
              "    <tr>\n",
              "      <th>11</th>\n",
              "      <td>10</td>\n",
              "      <td>this is the perfect game ! no doubt. the gamep...</td>\n",
              "    </tr>\n",
              "    <tr>\n",
              "      <th>16</th>\n",
              "      <td>10</td>\n",
              "      <td>amazing game in every aspect, i just want to ...</td>\n",
              "    </tr>\n",
              "  </tbody>\n",
              "</table>\n",
              "</div>"
            ],
            "text/plain": [
              "    Userscore                                            Comment\n",
              "2          10  anyone who gives the masterpiece below a 7 or ...\n",
              "3          10  i'm one of those people who think that this is...\n",
              "4          10   this game is the highest rated game on metacr...\n",
              "5          10  i think it's funny that you have zelda haters ...\n",
              "7          10  the legend of zelda: ocarina of time is withou...\n",
              "8          10              this review contains spoilers, cli...\n",
              "9          10  i'm not kidding when i say that this is the on...\n",
              "10         10  essentially one of the best games of all time,...\n",
              "11         10  this is the perfect game ! no doubt. the gamep...\n",
              "16         10   amazing game in every aspect, i just want to ..."
            ]
          },
          "metadata": {
            "tags": []
          },
          "execution_count": 12
        }
      ]
    },
    {
      "cell_type": "markdown",
      "metadata": {
        "id": "KkxonvM-GLnA"
      },
      "source": [
        "#Dividir los datos en entrenamiento, validación y prueba\n",
        "\n",
        "\n"
      ]
    },
    {
      "cell_type": "code",
      "metadata": {
        "id": "bx154zm9GNnN"
      },
      "source": [
        "train, validate, test = np.split(df1.sample(frac=1), [int(.7*len(df1)), int(.8*len(df1))])\n"
      ],
      "execution_count": null,
      "outputs": []
    },
    {
      "cell_type": "code",
      "metadata": {
        "id": "EpPFfvTXNv04"
      },
      "source": [
        "train_comments = train['Comment']\n",
        "train_labels = train['Userscore']\n",
        "validate_comments = validate['Comment']\n",
        "validate_labels = validate['Userscore']\n",
        "test_comments = test['Comment']\n",
        "test_labels = test['Userscore']"
      ],
      "execution_count": null,
      "outputs": []
    },
    {
      "cell_type": "markdown",
      "metadata": {
        "id": "Tv5guVQjRq9N"
      },
      "source": [
        "#Tokenizer\n"
      ]
    },
    {
      "cell_type": "code",
      "metadata": {
        "id": "gchiozDHStaL"
      },
      "source": [
        "import keras\n",
        "from keras.preprocessing.text import Tokenizer\n"
      ],
      "execution_count": null,
      "outputs": []
    },
    {
      "cell_type": "code",
      "metadata": {
        "id": "EANmRKRZRg2U"
      },
      "source": [
        "vocab_size = 12000\n",
        "tokenize = Tokenizer(num_words=vocab_size, char_level=False)\n",
        "tokenize.fit_on_texts(df1['Comment'])"
      ],
      "execution_count": null,
      "outputs": []
    },
    {
      "cell_type": "code",
      "metadata": {
        "id": "uK3_F3yTq4D1"
      },
      "source": [
        "matrix = tokenize.texts_to_matrix(train_comments, mode = 'binary')"
      ],
      "execution_count": null,
      "outputs": []
    },
    {
      "cell_type": "code",
      "metadata": {
        "id": "ry5eE0kKU8Vo"
      },
      "source": [
        "matrixVal = tokenize.texts_to_matrix(validate_comments, mode = 'binary')"
      ],
      "execution_count": null,
      "outputs": []
    },
    {
      "cell_type": "code",
      "metadata": {
        "id": "CNxjCl7uVEYl"
      },
      "source": [
        "matrixTest = tokenize.texts_to_matrix(test_comments, mode = 'binary')"
      ],
      "execution_count": null,
      "outputs": []
    },
    {
      "cell_type": "markdown",
      "metadata": {
        "id": "hC1gMoMFUXsW"
      },
      "source": [
        "#Modelo"
      ]
    },
    {
      "cell_type": "code",
      "metadata": {
        "id": "dnntIn3ZTMOC"
      },
      "source": [
        "from tensorflow.keras import models\n",
        "from tensorflow.keras import layers\n",
        "from tensorflow.keras.utils import to_categorical\n",
        "from tensorflow.keras.layers import Dropout, Dense\n",
        "from tensorflow.keras.callbacks import EarlyStopping \n",
        "from tensorflow.keras import regularizers"
      ],
      "execution_count": null,
      "outputs": []
    },
    {
      "cell_type": "code",
      "metadata": {
        "id": "7bDCCFCwmF8N"
      },
      "source": [
        "es = EarlyStopping(monitor='val_accuracy', mode='max', patience= 3, verbose= 1)"
      ],
      "execution_count": null,
      "outputs": []
    },
    {
      "cell_type": "code",
      "metadata": {
        "id": "8upzlqpiUpwA"
      },
      "source": [
        "#y_train_vec = to_categorical(train_labels, num_classes=11)\n",
        "#y_validate_vec = to_categorical(validate_labels,num_classes=11)\n",
        "#y_test_vec = to_categorical(test_labels,num_classes=11)"
      ],
      "execution_count": null,
      "outputs": []
    },
    {
      "cell_type": "code",
      "metadata": {
        "id": "dYtW2oiIrhpj"
      },
      "source": [
        "train_lab_sp = np.array(train_labels)\n",
        "val_lab_sp = np.array(validate_labels)\n",
        "test_lab_sp = np.array(test_labels)"
      ],
      "execution_count": null,
      "outputs": []
    },
    {
      "cell_type": "code",
      "metadata": {
        "id": "TlgLmsbc09YN"
      },
      "source": [
        "modelMtx = models.Sequential()\n",
        "modelMtx.add(layers.Dense(16, kernel_regularizer=regularizers.l2(0.001), activation='relu', input_shape=(12000,)))\n",
        "modelMtx.add(layers.Dense(16,activation='relu'))\n",
        "modelMtx.add(layers.Dense(16,activation='relu'))\n",
        "modelMtx.add(layers.Dense(11, activation='softmax'))\n",
        "modelMtx.compile(loss='sparse_categorical_crossentropy', optimizer='adam', metrics=['accuracy'])"
      ],
      "execution_count": null,
      "outputs": []
    },
    {
      "cell_type": "code",
      "metadata": {
        "colab": {
          "base_uri": "https://localhost:8080/"
        },
        "id": "1pfm1PQR1lIQ",
        "outputId": "d5f2fdc0-6a74-4585-f72b-bf00b85b68d6"
      },
      "source": [
        "history = modelMtx.fit(matrix, train_lab_sp, epochs=20, validation_data=(matrixVal,val_lab_sp), callbacks= [es])"
      ],
      "execution_count": null,
      "outputs": [
        {
          "output_type": "stream",
          "text": [
            "Epoch 1/20\n",
            "1313/1313 [==============================] - 10s 7ms/step - loss: 1.4377 - accuracy: 0.5179 - val_loss: 1.3373 - val_accuracy: 0.5485\n",
            "Epoch 2/20\n",
            "1313/1313 [==============================] - 8s 6ms/step - loss: 1.2737 - accuracy: 0.5709 - val_loss: 1.3475 - val_accuracy: 0.5533\n",
            "Epoch 3/20\n",
            "1313/1313 [==============================] - 8s 6ms/step - loss: 1.2371 - accuracy: 0.5889 - val_loss: 1.3770 - val_accuracy: 0.5450\n",
            "Epoch 4/20\n",
            "1313/1313 [==============================] - 8s 6ms/step - loss: 1.2107 - accuracy: 0.6051 - val_loss: 1.4105 - val_accuracy: 0.5458\n",
            "Epoch 5/20\n",
            "1313/1313 [==============================] - 8s 6ms/step - loss: 1.1852 - accuracy: 0.6192 - val_loss: 1.4467 - val_accuracy: 0.5482\n",
            "Epoch 00005: early stopping\n"
          ],
          "name": "stdout"
        }
      ]
    },
    {
      "cell_type": "code",
      "metadata": {
        "id": "5-hMuDmhE8Gk"
      },
      "source": [
        "modelMtx.save('metaCriticsModel.h5')\n"
      ],
      "execution_count": 42,
      "outputs": []
    },
    {
      "cell_type": "code",
      "metadata": {
        "id": "s5ZEAwzkJ7_K"
      },
      "source": [
        "new_model = tf.keras.models.load_model('saved_model/my_model')"
      ],
      "execution_count": 43,
      "outputs": []
    },
    {
      "cell_type": "code",
      "metadata": {
        "id": "J_EEqLpKKgKS",
        "colab": {
          "base_uri": "https://localhost:8080/"
        },
        "outputId": "2ef51410-ed69-4e2c-c8e7-a77229aab719"
      },
      "source": [
        "m = new_model.evaluate(matrixTest, test_lab_sp)"
      ],
      "execution_count": 44,
      "outputs": [
        {
          "output_type": "stream",
          "text": [
            "375/375 [==============================] - 1s 3ms/step - loss: 1.4265 - accuracy: 0.5503\n"
          ],
          "name": "stdout"
        }
      ]
    },
    {
      "cell_type": "markdown",
      "metadata": {
        "id": "je3j4Mo9SfrC"
      },
      "source": [
        "#Evaluación del modelo\n"
      ]
    },
    {
      "cell_type": "code",
      "metadata": {
        "colab": {
          "base_uri": "https://localhost:8080/"
        },
        "id": "P0gu93LWSio9",
        "outputId": "c3f043c7-b0b1-421d-a45f-778be0a10eb5"
      },
      "source": [
        "m = modelMtx.evaluate(matrixTest, test_lab_sp)"
      ],
      "execution_count": null,
      "outputs": [
        {
          "output_type": "stream",
          "text": [
            "375/375 [==============================] - 1s 3ms/step - loss: 1.4265 - accuracy: 0.5503\n"
          ],
          "name": "stdout"
        }
      ]
    },
    {
      "cell_type": "code",
      "metadata": {
        "colab": {
          "base_uri": "https://localhost:8080/"
        },
        "id": "jxHwS62dTZkB",
        "outputId": "06cfe3d1-102c-4fc8-95d1-8f8ed57a2c6d"
      },
      "source": [
        "m"
      ],
      "execution_count": null,
      "outputs": [
        {
          "output_type": "execute_result",
          "data": {
            "text/plain": [
              "[1.4281777143478394, 0.5350833535194397]"
            ]
          },
          "metadata": {
            "tags": []
          },
          "execution_count": 39
        }
      ]
    },
    {
      "cell_type": "markdown",
      "metadata": {
        "id": "uWr2TNH9096B"
      },
      "source": [
        "#Prueba"
      ]
    },
    {
      "cell_type": "code",
      "metadata": {
        "id": "O0bo2tU_2ijU"
      },
      "source": [
        "predictionsMtx = modelMtx.predict(matrixTest)"
      ],
      "execution_count": null,
      "outputs": []
    },
    {
      "cell_type": "code",
      "metadata": {
        "colab": {
          "base_uri": "https://localhost:8080/"
        },
        "id": "3pFu7LxtzIE8",
        "outputId": "a6fbbad4-c911-483f-c8f1-4dbf0154bbbc"
      },
      "source": [
        "np.argmax(predictionsMtx[2868])\n"
      ],
      "execution_count": null,
      "outputs": [
        {
          "output_type": "execute_result",
          "data": {
            "text/plain": [
              "0"
            ]
          },
          "metadata": {
            "tags": []
          },
          "execution_count": 40
        }
      ]
    },
    {
      "cell_type": "code",
      "metadata": {
        "colab": {
          "base_uri": "https://localhost:8080/"
        },
        "id": "DjHayeUA253A",
        "outputId": "01e27412-32ff-43ee-ac02-f57cce6dd439"
      },
      "source": [
        "test_labels.iloc[2868]"
      ],
      "execution_count": null,
      "outputs": [
        {
          "output_type": "execute_result",
          "data": {
            "text/plain": [
              "4"
            ]
          },
          "metadata": {
            "tags": []
          },
          "execution_count": 41
        }
      ]
    },
    {
      "cell_type": "code",
      "metadata": {
        "colab": {
          "base_uri": "https://localhost:8080/",
          "height": 137
        },
        "id": "5REH_1S53OQg",
        "outputId": "a2ce2acd-cfd5-4bb1-e7d7-613bf486128d"
      },
      "source": [
        "test_comments.iloc[2868]"
      ],
      "execution_count": null,
      "outputs": [
        {
          "output_type": "execute_result",
          "data": {
            "application/vnd.google.colaboratory.intrinsic+json": {
              "type": "string"
            },
            "text/plain": [
              "\" fallout 3 is absolutely not a part of the original fallout franchise. it's more a feature and a bad ripoff of the original games. all you can do is run around and shoot stuff thats acting quite stupid. not many quests, and they tend to become boring after a while. this game is advertising with great replayablility, but in fact it's just another facette which gives the same fallout 3 is absolutely not a part of the original fallout franchise. it's more a feature and a bad ripoff of the original games. all you can do is run around and shoot stuff thats acting quite stupid. not many quests, and they tend to become boring after a while. this game is advertising with great replayablility, but in fact it's just another facette which gives the same results. even the karmasystem influencing npc behavious towards you is totally messed up when you compare it to the old games, not to mention the script of the mainquest. go to the mutievault where the geck is and *boom* you are abducted without even knowing what's going on or what that secret project is on what your father worked. you still can give the answers as if you would know. also... the ending. 90% rad resistance and yet you die. wtf. and you can't send in the supermutant who has retrieved the geck from a deathzone for you. bullocks. ps the bloody mess trait isn't what you expect from the game when you played the prior installments (on the old engine, there where two kinds of deathanimation: normal and cruel splatter on critical hits): killing people with bloody mess malms everything of their body as if they'd explode from the inside out. believe me, it sounds better than it plays.\""
            ]
          },
          "metadata": {
            "tags": []
          },
          "execution_count": 38
        }
      ]
    },
    {
      "cell_type": "code",
      "metadata": {
        "colab": {
          "base_uri": "https://localhost:8080/"
        },
        "id": "XOok3JzXzDQn",
        "outputId": "9d5796f8-1ad1-4190-d7d7-29cd307c0b0f"
      },
      "source": [
        "suma = 0\n",
        "for i in range(len(predictionsMtx)):\n",
        "  suma += abs(np.argmax(predictionsMtx[i]) - test_labels.iloc[i])\n",
        "error = suma/len(predictionsMtx)\n",
        "print(error)  "
      ],
      "execution_count": null,
      "outputs": [
        {
          "output_type": "stream",
          "text": [
            "1.0505833333333334\n"
          ],
          "name": "stdout"
        }
      ]
    },
    {
      "cell_type": "code",
      "metadata": {
        "id": "0Ju27KhtpMYN"
      },
      "source": [
        "import matplotlib.pyplot as plt"
      ],
      "execution_count": null,
      "outputs": []
    },
    {
      "cell_type": "code",
      "metadata": {
        "id": "tRQNGiZN6gQI"
      },
      "source": [
        "usuario = []\n",
        "predict = []\n",
        "usuario = range(0,len(test_lab_sp))\n",
        "for i in range(0, len(test_lab_sp)):\n",
        "  predict.append(np.argmax(predictionsMtx[i]))\n"
      ],
      "execution_count": null,
      "outputs": []
    },
    {
      "cell_type": "code",
      "metadata": {
        "colab": {
          "base_uri": "https://localhost:8080/",
          "height": 206
        },
        "id": "mL7pLsbZpVhv",
        "outputId": "73d9a865-a6e9-4dc2-f7b4-58cb4b45a360"
      },
      "source": [
        "fig = plt.figure(figsize=(20, 3))\n",
        "ax= fig.add_subplot()\n",
        "plt.tight_layout()\n",
        "plt.plot(usuario[:100],predict[:100],'bo', label = 'Valor predicho')\n",
        "plt.plot(usuario[:100],test_lab_sp[:100],'ro', label = 'Valor real')\n",
        "plt.xlabel('Usuario')\n",
        "plt.ylabel('Valor')\n",
        "plt.legend()\n",
        "plt.show()"
      ],
      "execution_count": null,
      "outputs": [
        {
          "output_type": "display_data",
          "data": {
            "image/png": "[encoded data removed]",
            "text/plain": [
              "<Figure size 1440x216 with 1 Axes>"
            ]
          },
          "metadata": {
            "tags": [],
            "needs_background": "light"
          }
        }
      ]
    }
  ]
}