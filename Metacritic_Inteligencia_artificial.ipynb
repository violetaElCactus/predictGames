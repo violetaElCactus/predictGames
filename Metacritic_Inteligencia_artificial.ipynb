{
  "nbformat": 4,
  "nbformat_minor": 0,
  "metadata": {
    "colab": {
      "name": "Metacritic - Inteligencia artificial Cam.ipynb",
      "provenance": [],
      "collapsed_sections": [],
      "include_colab_link": true
    },
    "kernelspec": {
      "name": "python3",
      "display_name": "Python 3"
    },
    "language_info": {
      "name": "python"
    }
  },
  "cells": [
    {
      "cell_type": "markdown",
      "metadata": {
        "id": "view-in-github",
        "colab_type": "text"
      },
      "source": [
        "<a href=\"https://colab.research.google.com/github/violetaElCactus/predictGames/blob/main/Metacritic_Inteligencia_artificial.ipynb\" target=\"_parent\"><img src=\"https://colab.research.google.com/assets/colab-badge.svg\" alt=\"Open In Colab\"/></a>"
      ]
    },
    {
      "cell_type": "markdown",
      "metadata": {
        "id": "WvT3OkhOhjxL"
      },
      "source": [
        "#Importar librerías"
      ]
    },
    {
      "cell_type": "code",
      "metadata": {
        "id": "pJdcDVopfkyU",
        "colab": {
          "base_uri": "https://localhost:8080/"
        },
        "outputId": "5cd936dd-7cd0-4084-e797-6f2eef793204"
      },
      "source": [
        "import pandas as pd\n",
        "import tensorflow as tf\n",
        "import numpy as np\n",
        "\n",
        "print(\"Tensorflow: \" + tf.__version__)"
      ],
      "execution_count": 1,
      "outputs": [
        {
          "output_type": "stream",
          "text": [
            "Tensorflow: 2.5.0\n"
          ],
          "name": "stdout"
        }
      ]
    },
    {
      "cell_type": "markdown",
      "metadata": {
        "id": "QdZECm6pi-mi"
      },
      "source": [
        "#Importar los datos"
      ]
    },
    {
      "cell_type": "code",
      "metadata": {
        "colab": {
          "base_uri": "https://localhost:8080/"
        },
        "id": "_tT8HS2tjCZZ",
        "outputId": "f930f38d-f545-4b49-a485-83a24b54f8f2"
      },
      "source": [
        "from google.colab import drive\n",
        "drive.mount('/content/drive')\n",
        "#data_juegos = pd.read_csv(\"drive/My Drive/Colab Notebooks/metacritic_game_info.csv\")\n",
        "data_comentarios = pd.read_csv(\"drive/My Drive/Colab Notebooks/metacritic_game_user_comments.csv\")"
      ],
      "execution_count": 2,
      "outputs": [
        {
          "output_type": "stream",
          "text": [
            "Mounted at /content/drive\n"
          ],
          "name": "stdout"
        }
      ]
    },
    {
      "cell_type": "markdown",
      "metadata": {
        "id": "kHLLoqomkY4M"
      },
      "source": [
        "##Información juegos"
      ]
    },
    {
      "cell_type": "code",
      "metadata": {
        "id": "7NqIWMy2jpBj"
      },
      "source": [
        "#data_juegos.head(10)"
      ],
      "execution_count": 3,
      "outputs": []
    },
    {
      "cell_type": "markdown",
      "metadata": {
        "id": "3YyGQtS1kbpH"
      },
      "source": [
        "##Información comentarios"
      ]
    },
    {
      "cell_type": "code",
      "metadata": {
        "colab": {
          "base_uri": "https://localhost:8080/",
          "height": 359
        },
        "id": "Ycb26goBkd_s",
        "outputId": "fbaee17d-fd51-4d6f-c45d-8c4e6e39416b"
      },
      "source": [
        "data_comentarios.head(10)"
      ],
      "execution_count": 4,
      "outputs": [
        {
          "output_type": "execute_result",
          "data": {
            "text/html": [
              "<div>\n",
              "<style scoped>\n",
              "    .dataframe tbody tr th:only-of-type {\n",
              "        vertical-align: middle;\n",
              "    }\n",
              "\n",
              "    .dataframe tbody tr th {\n",
              "        vertical-align: top;\n",
              "    }\n",
              "\n",
              "    .dataframe thead th {\n",
              "        text-align: right;\n",
              "    }\n",
              "</style>\n",
              "<table border=\"1\" class=\"dataframe\">\n",
              "  <thead>\n",
              "    <tr style=\"text-align: right;\">\n",
              "      <th></th>\n",
              "      <th>Unnamed: 0</th>\n",
              "      <th>Title</th>\n",
              "      <th>Platform</th>\n",
              "      <th>Userscore</th>\n",
              "      <th>Comment</th>\n",
              "      <th>Username</th>\n",
              "    </tr>\n",
              "  </thead>\n",
              "  <tbody>\n",
              "    <tr>\n",
              "      <th>0</th>\n",
              "      <td>0</td>\n",
              "      <td>The Legend of Zelda: Ocarina of Time</td>\n",
              "      <td>Nintendo64</td>\n",
              "      <td>10</td>\n",
              "      <td>Everything in OoT is so near at perfection, it...</td>\n",
              "      <td>SirCaestus</td>\n",
              "    </tr>\n",
              "    <tr>\n",
              "      <th>1</th>\n",
              "      <td>1</td>\n",
              "      <td>The Legend of Zelda: Ocarina of Time</td>\n",
              "      <td>Nintendo64</td>\n",
              "      <td>10</td>\n",
              "      <td>I won't bore you with what everyone is already...</td>\n",
              "      <td>Kaistlin</td>\n",
              "    </tr>\n",
              "    <tr>\n",
              "      <th>2</th>\n",
              "      <td>2</td>\n",
              "      <td>The Legend of Zelda: Ocarina of Time</td>\n",
              "      <td>Nintendo64</td>\n",
              "      <td>10</td>\n",
              "      <td>Anyone who gives the masterpiece below a 7 or ...</td>\n",
              "      <td>Jacody</td>\n",
              "    </tr>\n",
              "    <tr>\n",
              "      <th>3</th>\n",
              "      <td>3</td>\n",
              "      <td>The Legend of Zelda: Ocarina of Time</td>\n",
              "      <td>Nintendo64</td>\n",
              "      <td>10</td>\n",
              "      <td>I'm one of those people who think that this is...</td>\n",
              "      <td>doodlerman</td>\n",
              "    </tr>\n",
              "    <tr>\n",
              "      <th>4</th>\n",
              "      <td>4</td>\n",
              "      <td>The Legend of Zelda: Ocarina of Time</td>\n",
              "      <td>Nintendo64</td>\n",
              "      <td>10</td>\n",
              "      <td>This game is the highest rated game on Metacr...</td>\n",
              "      <td>StevenA</td>\n",
              "    </tr>\n",
              "    <tr>\n",
              "      <th>5</th>\n",
              "      <td>5</td>\n",
              "      <td>The Legend of Zelda: Ocarina of Time</td>\n",
              "      <td>Nintendo64</td>\n",
              "      <td>10</td>\n",
              "      <td>I think it's funny that you have Zelda haters ...</td>\n",
              "      <td>joei1382</td>\n",
              "    </tr>\n",
              "    <tr>\n",
              "      <th>6</th>\n",
              "      <td>6</td>\n",
              "      <td>The Legend of Zelda: Ocarina of Time</td>\n",
              "      <td>Nintendo64</td>\n",
              "      <td>9</td>\n",
              "      <td>I played A Link To The Past so many times in m...</td>\n",
              "      <td>Corvix</td>\n",
              "    </tr>\n",
              "    <tr>\n",
              "      <th>7</th>\n",
              "      <td>7</td>\n",
              "      <td>The Legend of Zelda: Ocarina of Time</td>\n",
              "      <td>Nintendo64</td>\n",
              "      <td>10</td>\n",
              "      <td>The Legend of Zelda: Ocarina of Time is withou...</td>\n",
              "      <td>pittsburghboy91</td>\n",
              "    </tr>\n",
              "    <tr>\n",
              "      <th>8</th>\n",
              "      <td>8</td>\n",
              "      <td>The Legend of Zelda: Ocarina of Time</td>\n",
              "      <td>Nintendo64</td>\n",
              "      <td>10</td>\n",
              "      <td>This review contains spoilers, cli...</td>\n",
              "      <td>Nosidda89</td>\n",
              "    </tr>\n",
              "    <tr>\n",
              "      <th>9</th>\n",
              "      <td>9</td>\n",
              "      <td>The Legend of Zelda: Ocarina of Time</td>\n",
              "      <td>Nintendo64</td>\n",
              "      <td>10</td>\n",
              "      <td>I'm not kidding when I say that this is the on...</td>\n",
              "      <td>Regeneration13</td>\n",
              "    </tr>\n",
              "  </tbody>\n",
              "</table>\n",
              "</div>"
            ],
            "text/plain": [
              "   Unnamed: 0  ...         Username\n",
              "0           0  ...       SirCaestus\n",
              "1           1  ...         Kaistlin\n",
              "2           2  ...           Jacody\n",
              "3           3  ...       doodlerman\n",
              "4           4  ...          StevenA\n",
              "5           5  ...         joei1382\n",
              "6           6  ...           Corvix\n",
              "7           7  ...  pittsburghboy91\n",
              "8           8  ...        Nosidda89\n",
              "9           9  ...   Regeneration13\n",
              "\n",
              "[10 rows x 6 columns]"
            ]
          },
          "metadata": {
            "tags": []
          },
          "execution_count": 4
        }
      ]
    },
    {
      "cell_type": "code",
      "metadata": {
        "colab": {
          "base_uri": "https://localhost:8080/",
          "height": 364
        },
        "id": "hdfSAMNQHSht",
        "outputId": "7eb42b24-654a-44a9-f045-3fa96963d94d"
      },
      "source": [
        "import seaborn as sns\n",
        "\n",
        "temp=pd.DataFrame(data_comentarios.Userscore.value_counts())\n",
        "temp.sort_index(inplace=True)\n",
        "temp.columns=['Number of reviews']\n",
        "clrs=['red' if (x > 5000) else 'lightcoral' for x in temp['Number of reviews'] ] #highlight bars\n",
        "sns.countplot(data=data_comentarios,x='Userscore',palette=clrs) \n",
        "print(temp.T)\n",
        "print('Mean score: ', data_comentarios.Userscore.mean())"
      ],
      "execution_count": 5,
      "outputs": [
        {
          "output_type": "stream",
          "text": [
            "                      0     1     2     3   ...     7      8      9       10\n",
            "Number of reviews  20120  7318  5983  7118  ...  17052  30271  53489  112531\n",
            "\n",
            "[1 rows x 11 columns]\n",
            "Mean score:  7.6183081381632\n"
          ],
          "name": "stdout"
        },
        {
          "output_type": "display_data",
          "data": {
            "image/png": "[encoded data removed]",
            "text/plain": [
              "<Figure size 432x288 with 1 Axes>"
            ]
          },
          "metadata": {
            "tags": [],
            "needs_background": "light"
          }
        }
      ]
    },
    {
      "cell_type": "code",
      "metadata": {
        "id": "E4ZJ0NiPmz-j"
      },
      "source": [
        "data_comentarios = data_comentarios[data_comentarios['Comment'].str.len() > 280] #Comentario más largo que un Tweet.\n"
      ],
      "execution_count": 6,
      "outputs": []
    },
    {
      "cell_type": "code",
      "metadata": {
        "id": "QZBRuImP3Rzd"
      },
      "source": [
        "data_comentarios = data_comentarios[data_comentarios['Comment'].map(lambda x: x.isascii())]\n"
      ],
      "execution_count": 7,
      "outputs": []
    },
    {
      "cell_type": "code",
      "metadata": {
        "id": "6oN1VoFTFseI"
      },
      "source": [
        "data_comentarios[\"Comment\"] = data_comentarios[\"Comment\"].str.lower()\n"
      ],
      "execution_count": 8,
      "outputs": []
    },
    {
      "cell_type": "code",
      "metadata": {
        "id": "pFE4AG7j3YXE"
      },
      "source": [
        "df1 = data_comentarios.iloc[:60000]"
      ],
      "execution_count": 9,
      "outputs": []
    },
    {
      "cell_type": "code",
      "metadata": {
        "colab": {
          "base_uri": "https://localhost:8080/"
        },
        "id": "oQkzD4_Gw1fb",
        "outputId": "00c41ed2-e253-4f9a-b669-89c314371041"
      },
      "source": [
        "len(df1)"
      ],
      "execution_count": 10,
      "outputs": [
        {
          "output_type": "execute_result",
          "data": {
            "text/plain": [
              "60000"
            ]
          },
          "metadata": {
            "tags": []
          },
          "execution_count": 10
        }
      ]
    },
    {
      "cell_type": "code",
      "metadata": {
        "id": "Gsb0ADz_3drs",
        "colab": {
          "base_uri": "https://localhost:8080/"
        },
        "outputId": "c3705368-c1c5-468a-ef59-b4792a6e7636"
      },
      "source": [
        "df1.drop(['Unnamed: 0','Username','Title','Platform'], axis=1, inplace=True)\n"
      ],
      "execution_count": 11,
      "outputs": [
        {
          "output_type": "stream",
          "text": [
            "/usr/local/lib/python3.7/dist-packages/pandas/core/frame.py:4174: SettingWithCopyWarning: \n",
            "A value is trying to be set on a copy of a slice from a DataFrame\n",
            "\n",
            "See the caveats in the documentation: https://pandas.pydata.org/pandas-docs/stable/user_guide/indexing.html#returning-a-view-versus-a-copy\n",
            "  errors=errors,\n"
          ],
          "name": "stderr"
        }
      ]
    },
    {
      "cell_type": "code",
      "metadata": {
        "colab": {
          "base_uri": "https://localhost:8080/",
          "height": 359
        },
        "id": "NeJWfShE4lI1",
        "outputId": "c98d5a02-6354-45e9-9e60-3f9afb6db906"
      },
      "source": [
        "df1.head(10)\n"
      ],
      "execution_count": 12,
      "outputs": [
        {
          "output_type": "execute_result",
          "data": {
            "text/html": [
              "<div>\n",
              "<style scoped>\n",
              "    .dataframe tbody tr th:only-of-type {\n",
              "        vertical-align: middle;\n",
              "    }\n",
              "\n",
              "    .dataframe tbody tr th {\n",
              "        vertical-align: top;\n",
              "    }\n",
              "\n",
              "    .dataframe thead th {\n",
              "        text-align: right;\n",
              "    }\n",
              "</style>\n",
              "<table border=\"1\" class=\"dataframe\">\n",
              "  <thead>\n",
              "    <tr style=\"text-align: right;\">\n",
              "      <th></th>\n",
              "      <th>Userscore</th>\n",
              "      <th>Comment</th>\n",
              "    </tr>\n",
              "  </thead>\n",
              "  <tbody>\n",
              "    <tr>\n",
              "      <th>2</th>\n",
              "      <td>10</td>\n",
              "      <td>anyone who gives the masterpiece below a 7 or ...</td>\n",
              "    </tr>\n",
              "    <tr>\n",
              "      <th>3</th>\n",
              "      <td>10</td>\n",
              "      <td>i'm one of those people who think that this is...</td>\n",
              "    </tr>\n",
              "    <tr>\n",
              "      <th>4</th>\n",
              "      <td>10</td>\n",
              "      <td>this game is the highest rated game on metacr...</td>\n",
              "    </tr>\n",
              "    <tr>\n",
              "      <th>5</th>\n",
              "      <td>10</td>\n",
              "      <td>i think it's funny that you have zelda haters ...</td>\n",
              "    </tr>\n",
              "    <tr>\n",
              "      <th>7</th>\n",
              "      <td>10</td>\n",
              "      <td>the legend of zelda: ocarina of time is withou...</td>\n",
              "    </tr>\n",
              "    <tr>\n",
              "      <th>8</th>\n",
              "      <td>10</td>\n",
              "      <td>this review contains spoilers, cli...</td>\n",
              "    </tr>\n",
              "    <tr>\n",
              "      <th>9</th>\n",
              "      <td>10</td>\n",
              "      <td>i'm not kidding when i say that this is the on...</td>\n",
              "    </tr>\n",
              "    <tr>\n",
              "      <th>10</th>\n",
              "      <td>10</td>\n",
              "      <td>essentially one of the best games of all time,...</td>\n",
              "    </tr>\n",
              "    <tr>\n",
              "      <th>11</th>\n",
              "      <td>10</td>\n",
              "      <td>this is the perfect game ! no doubt. the gamep...</td>\n",
              "    </tr>\n",
              "    <tr>\n",
              "      <th>16</th>\n",
              "      <td>10</td>\n",
              "      <td>amazing game in every aspect, i just want to ...</td>\n",
              "    </tr>\n",
              "  </tbody>\n",
              "</table>\n",
              "</div>"
            ],
            "text/plain": [
              "    Userscore                                            Comment\n",
              "2          10  anyone who gives the masterpiece below a 7 or ...\n",
              "3          10  i'm one of those people who think that this is...\n",
              "4          10   this game is the highest rated game on metacr...\n",
              "5          10  i think it's funny that you have zelda haters ...\n",
              "7          10  the legend of zelda: ocarina of time is withou...\n",
              "8          10              this review contains spoilers, cli...\n",
              "9          10  i'm not kidding when i say that this is the on...\n",
              "10         10  essentially one of the best games of all time,...\n",
              "11         10  this is the perfect game ! no doubt. the gamep...\n",
              "16         10   amazing game in every aspect, i just want to ..."
            ]
          },
          "metadata": {
            "tags": []
          },
          "execution_count": 12
        }
      ]
    },
    {
      "cell_type": "code",
      "metadata": {
        "id": "3qQzxBCy5Gtm"
      },
      "source": [
        ""
      ],
      "execution_count": 12,
      "outputs": []
    },
    {
      "cell_type": "markdown",
      "metadata": {
        "id": "KkxonvM-GLnA"
      },
      "source": [
        "#Dividir los datos en entrenamiento, validación y prueba\n",
        "\n",
        "\n"
      ]
    },
    {
      "cell_type": "code",
      "metadata": {
        "id": "bx154zm9GNnN"
      },
      "source": [
        "train, validate, test = np.split(df1.sample(frac=1), [int(.7*len(df1)), int(.8*len(df1))])\n"
      ],
      "execution_count": 13,
      "outputs": []
    },
    {
      "cell_type": "code",
      "metadata": {
        "id": "EpPFfvTXNv04"
      },
      "source": [
        "train_comments = train['Comment']\n",
        "train_labels = train['Userscore']\n",
        "validate_comments = validate['Comment']\n",
        "validate_labels = validate['Userscore']\n",
        "test_comments = test['Comment']\n",
        "test_labels = test['Userscore']"
      ],
      "execution_count": 14,
      "outputs": []
    },
    {
      "cell_type": "markdown",
      "metadata": {
        "id": "Tv5guVQjRq9N"
      },
      "source": [
        "#Tokenizer\n"
      ]
    },
    {
      "cell_type": "code",
      "metadata": {
        "id": "gchiozDHStaL"
      },
      "source": [
        "import keras\n",
        "from keras.preprocessing.text import Tokenizer\n"
      ],
      "execution_count": 15,
      "outputs": []
    },
    {
      "cell_type": "code",
      "metadata": {
        "id": "EANmRKRZRg2U"
      },
      "source": [
        "vocab_size = 12000\n",
        "max_seq_length = 580\n",
        "tokenize = Tokenizer(num_words=vocab_size, char_level=False)\n",
        "tokenize.fit_on_texts(train_comments)"
      ],
      "execution_count": 16,
      "outputs": []
    },
    {
      "cell_type": "code",
      "metadata": {
        "id": "uK3_F3yTq4D1"
      },
      "source": [
        "matrix = tokenize.texts_to_matrix(train_comments, mode = 'binary')\n",
        "#sequential = tokenize.texts_to_sequences(train_comments)\n",
        "#sequential = keras.preprocessing.sequence.pad_sequences(\n",
        "#        sequential, maxlen=max_seq_length, padding=\"post\")\"\"\""
      ],
      "execution_count": 18,
      "outputs": []
    },
    {
      "cell_type": "code",
      "metadata": {
        "id": "ry5eE0kKU8Vo"
      },
      "source": [
        "matrixVal = tokenize.texts_to_matrix(validate_comments, mode = 'binary')\n",
        "#sequentialVal = tokenize.texts_to_sequences(train_comments)\n",
        "#sequentialVal = keras.preprocessing.sequence.pad_sequences(\n",
        "#        sequentialVal, maxlen=max_seq_length, padding=\"post\")\"\"\""
      ],
      "execution_count": 20,
      "outputs": []
    },
    {
      "cell_type": "code",
      "metadata": {
        "id": "CNxjCl7uVEYl"
      },
      "source": [
        "matrixTest = tokenize.texts_to_matrix(test_comments, mode = 'binary')\n",
        "#sequentialTest = tokenize.texts_to_sequences(train_comments)\n",
        "#sequentialTest = keras.preprocessing.sequence.pad_sequences(\n",
        "#        sequentialTest, maxlen=max_seq_length, padding=\"post\")\"\"\""
      ],
      "execution_count": 21,
      "outputs": []
    },
    {
      "cell_type": "markdown",
      "metadata": {
        "id": "t6krUHbUC6ZI"
      },
      "source": [
        "#Modelo Combinado\n"
      ]
    },
    {
      "cell_type": "code",
      "metadata": {
        "id": "JeLyyYcdFeFY"
      },
      "source": [
        "\"\"\"from tensorflow.keras import models\n",
        "from tensorflow.keras import layers\n",
        "from tensorflow.keras.utils import to_categorical\n",
        "from tensorflow.keras.layers import Dropout, Dense\n",
        "from tensorflow.keras.callbacks import EarlyStopping \n",
        "from tensorflow.keras import regularizers\"\"\""
      ],
      "execution_count": 26,
      "outputs": []
    },
    {
      "cell_type": "code",
      "metadata": {
        "colab": {
          "base_uri": "https://localhost:8080/",
          "height": 231
        },
        "id": "w0CN1IN9C86U",
        "outputId": "e86affba-2311-4d14-ed4c-e3219ccf7e56"
      },
      "source": [
        "\"\"\"x = Dense(16, activation=\"relu\")(matrix)\n",
        "x = Dense(16, activation=\"relu\")(x)\n",
        "x = Model(inputs=matrix, outputs=x)\n",
        "y = Dense(16, activation=\"relu\")(sequential)\n",
        "y = Dense(16, activation=\"relu\")(y)\n",
        "y = Model(inputs=sequential, outputs=y)\"\"\""
      ],
      "execution_count": 27,
      "outputs": [
        {
          "output_type": "error",
          "ename": "NameError",
          "evalue": "ignored",
          "traceback": [
            "\u001b[0;31m---------------------------------------------------------------------------\u001b[0m",
            "\u001b[0;31mNameError\u001b[0m                                 Traceback (most recent call last)",
            "\u001b[0;32m<ipython-input-27-3db70437f8e4>\u001b[0m in \u001b[0;36m<module>\u001b[0;34m()\u001b[0m\n\u001b[1;32m      1\u001b[0m \u001b[0mx\u001b[0m \u001b[0;34m=\u001b[0m \u001b[0mDense\u001b[0m\u001b[0;34m(\u001b[0m\u001b[0;36m16\u001b[0m\u001b[0;34m,\u001b[0m \u001b[0mactivation\u001b[0m\u001b[0;34m=\u001b[0m\u001b[0;34m\"relu\"\u001b[0m\u001b[0;34m)\u001b[0m\u001b[0;34m(\u001b[0m\u001b[0mmatrix\u001b[0m\u001b[0;34m)\u001b[0m\u001b[0;34m\u001b[0m\u001b[0;34m\u001b[0m\u001b[0m\n\u001b[1;32m      2\u001b[0m \u001b[0mx\u001b[0m \u001b[0;34m=\u001b[0m \u001b[0mDense\u001b[0m\u001b[0;34m(\u001b[0m\u001b[0;36m16\u001b[0m\u001b[0;34m,\u001b[0m \u001b[0mactivation\u001b[0m\u001b[0;34m=\u001b[0m\u001b[0;34m\"relu\"\u001b[0m\u001b[0;34m)\u001b[0m\u001b[0;34m(\u001b[0m\u001b[0mx\u001b[0m\u001b[0;34m)\u001b[0m\u001b[0;34m\u001b[0m\u001b[0;34m\u001b[0m\u001b[0m\n\u001b[0;32m----> 3\u001b[0;31m \u001b[0mx\u001b[0m \u001b[0;34m=\u001b[0m \u001b[0mModel\u001b[0m\u001b[0;34m(\u001b[0m\u001b[0minputs\u001b[0m\u001b[0;34m=\u001b[0m\u001b[0mmatrix\u001b[0m\u001b[0;34m,\u001b[0m \u001b[0moutputs\u001b[0m\u001b[0;34m=\u001b[0m\u001b[0mx\u001b[0m\u001b[0;34m)\u001b[0m\u001b[0;34m\u001b[0m\u001b[0;34m\u001b[0m\u001b[0m\n\u001b[0m\u001b[1;32m      4\u001b[0m \u001b[0my\u001b[0m \u001b[0;34m=\u001b[0m \u001b[0mDense\u001b[0m\u001b[0;34m(\u001b[0m\u001b[0;36m16\u001b[0m\u001b[0;34m,\u001b[0m \u001b[0mactivation\u001b[0m\u001b[0;34m=\u001b[0m\u001b[0;34m\"relu\"\u001b[0m\u001b[0;34m)\u001b[0m\u001b[0;34m(\u001b[0m\u001b[0msequential\u001b[0m\u001b[0;34m)\u001b[0m\u001b[0;34m\u001b[0m\u001b[0;34m\u001b[0m\u001b[0m\n\u001b[1;32m      5\u001b[0m \u001b[0my\u001b[0m \u001b[0;34m=\u001b[0m \u001b[0mDense\u001b[0m\u001b[0;34m(\u001b[0m\u001b[0;36m16\u001b[0m\u001b[0;34m,\u001b[0m \u001b[0mactivation\u001b[0m\u001b[0;34m=\u001b[0m\u001b[0;34m\"relu\"\u001b[0m\u001b[0;34m)\u001b[0m\u001b[0;34m(\u001b[0m\u001b[0my\u001b[0m\u001b[0;34m)\u001b[0m\u001b[0;34m\u001b[0m\u001b[0;34m\u001b[0m\u001b[0m\n",
            "\u001b[0;31mNameError\u001b[0m: name 'Model' is not defined"
          ]
        }
      ]
    },
    {
      "cell_type": "code",
      "metadata": {
        "id": "PfBMKgK5FUGx"
      },
      "source": [
        "\"combined = concatenate([x.output, y.output])\"\n"
      ],
      "execution_count": null,
      "outputs": []
    },
    {
      "cell_type": "markdown",
      "metadata": {
        "id": "hC1gMoMFUXsW"
      },
      "source": [
        "#Modelo"
      ]
    },
    {
      "cell_type": "code",
      "metadata": {
        "id": "dnntIn3ZTMOC"
      },
      "source": [
        "from tensorflow.keras import models\n",
        "from tensorflow.keras import layers\n",
        "from tensorflow.keras.utils import to_categorical\n",
        "from tensorflow.keras.layers import Dropout, Dense\n",
        "from tensorflow.keras.callbacks import EarlyStopping \n",
        "from tensorflow.keras import regularizers"
      ],
      "execution_count": 22,
      "outputs": []
    },
    {
      "cell_type": "code",
      "metadata": {
        "id": "7bDCCFCwmF8N"
      },
      "source": [
        "es = EarlyStopping(monitor='val_accuracy', mode='max', patience= 3, verbose= 1)"
      ],
      "execution_count": 43,
      "outputs": []
    },
    {
      "cell_type": "code",
      "metadata": {
        "id": "8upzlqpiUpwA"
      },
      "source": [
        "y_train_vec = to_categorical(train_labels, num_classes=11)\n",
        "y_validate_vec = to_categorical(validate_labels,num_classes=11)\n",
        "y_test_vec = to_categorical(test_labels,num_classes=11)"
      ],
      "execution_count": 44,
      "outputs": []
    },
    {
      "cell_type": "code",
      "metadata": {
        "id": "TlgLmsbc09YN"
      },
      "source": [
        "modelMtx = models.Sequential()\n",
        "modelMtx.add(layers.Dense(16, kernel_regularizer=regularizers.l2(0.001), activation='relu', input_shape=(12000,)))\n",
        "modelMtx.add(layers.Dense(16,activation='relu'))\n",
        "modelMtx.add(layers.Dense(16,activation='relu'))\n",
        "modelMtx.add(Dropout(0.5))\n",
        "modelMtx.add(layers.Dense(11, activation='softmax'))\n",
        "modelMtx.compile(loss='categorical_crossentropy', optimizer='adam', metrics=['accuracy'])"
      ],
      "execution_count": 45,
      "outputs": []
    },
    {
      "cell_type": "code",
      "metadata": {
        "colab": {
          "base_uri": "https://localhost:8080/"
        },
        "id": "1pfm1PQR1lIQ",
        "outputId": "51267dd4-ed26-4182-acf8-eb928e7c0330"
      },
      "source": [
        "history = modelMtx.fit(matrix, y_train_vec, epochs=20, validation_data=(matrixVal,y_validate_vec), callbacks= [es])"
      ],
      "execution_count": 46,
      "outputs": [
        {
          "output_type": "stream",
          "text": [
            "Epoch 1/20\n",
            "1313/1313 [==============================] - 9s 6ms/step - loss: 1.5453 - accuracy: 0.4790 - val_loss: 1.3486 - val_accuracy: 0.5265\n",
            "Epoch 2/20\n",
            "1313/1313 [==============================] - 8s 6ms/step - loss: 1.3866 - accuracy: 0.5229 - val_loss: 1.3363 - val_accuracy: 0.5327\n",
            "Epoch 3/20\n",
            "1313/1313 [==============================] - 8s 6ms/step - loss: 1.3497 - accuracy: 0.5412 - val_loss: 1.3567 - val_accuracy: 0.5440\n",
            "Epoch 4/20\n",
            "1313/1313 [==============================] - 8s 6ms/step - loss: 1.3318 - accuracy: 0.5457 - val_loss: 1.3718 - val_accuracy: 0.5362\n",
            "Epoch 5/20\n",
            "1313/1313 [==============================] - 8s 6ms/step - loss: 1.3207 - accuracy: 0.5503 - val_loss: 1.3816 - val_accuracy: 0.5373\n",
            "Epoch 6/20\n",
            "1313/1313 [==============================] - 8s 6ms/step - loss: 1.3064 - accuracy: 0.5572 - val_loss: 1.3863 - val_accuracy: 0.5313\n",
            "Epoch 00006: early stopping\n"
          ],
          "name": "stdout"
        }
      ]
    },
    {
      "cell_type": "markdown",
      "metadata": {
        "id": "je3j4Mo9SfrC"
      },
      "source": [
        "#Evaluación del modelo\n"
      ]
    },
    {
      "cell_type": "code",
      "metadata": {
        "colab": {
          "base_uri": "https://localhost:8080/"
        },
        "id": "P0gu93LWSio9",
        "outputId": "1925cf23-2aff-4e05-e1e6-4e2b26707e25"
      },
      "source": [
        "mse, mae = modelMtx.evaluate(matrixTest, y_test_vec)"
      ],
      "execution_count": 47,
      "outputs": [
        {
          "output_type": "stream",
          "text": [
            "375/375 [==============================] - 1s 3ms/step - loss: 1.3979 - accuracy: 0.5352\n"
          ],
          "name": "stdout"
        }
      ]
    },
    {
      "cell_type": "code",
      "metadata": {
        "colab": {
          "base_uri": "https://localhost:8080/"
        },
        "id": "jxHwS62dTZkB",
        "outputId": "076a8597-31f4-4d88-b794-074532e3f356"
      },
      "source": [
        "mse"
      ],
      "execution_count": 26,
      "outputs": [
        {
          "output_type": "execute_result",
          "data": {
            "text/plain": [
              "0.059603337198495865"
            ]
          },
          "metadata": {
            "tags": []
          },
          "execution_count": 26
        }
      ]
    },
    {
      "cell_type": "code",
      "metadata": {
        "colab": {
          "base_uri": "https://localhost:8080/"
        },
        "id": "QEnky1kFTcpt",
        "outputId": "b52e822b-1c5b-45e7-92d1-6c5028d7aa0d"
      },
      "source": [
        "mae"
      ],
      "execution_count": 28,
      "outputs": [
        {
          "output_type": "execute_result",
          "data": {
            "text/plain": [
              "0.5019999742507935"
            ]
          },
          "metadata": {
            "tags": []
          },
          "execution_count": 28
        }
      ]
    },
    {
      "cell_type": "markdown",
      "metadata": {
        "id": "uWr2TNH9096B"
      },
      "source": [
        "#Prueba"
      ]
    },
    {
      "cell_type": "code",
      "metadata": {
        "id": "O0bo2tU_2ijU"
      },
      "source": [
        "predictionsMtx = modelMtx.predict(matrixTest)"
      ],
      "execution_count": 28,
      "outputs": []
    },
    {
      "cell_type": "code",
      "metadata": {
        "colab": {
          "base_uri": "https://localhost:8080/"
        },
        "id": "3pFu7LxtzIE8",
        "outputId": "cc2a50d4-8713-490d-a284-c93c89897ef7"
      },
      "source": [
        "np.argmax(predictionsMtx[46])"
      ],
      "execution_count": 31,
      "outputs": [
        {
          "output_type": "execute_result",
          "data": {
            "text/plain": [
              "0"
            ]
          },
          "metadata": {
            "tags": []
          },
          "execution_count": 31
        }
      ]
    },
    {
      "cell_type": "code",
      "metadata": {
        "colab": {
          "base_uri": "https://localhost:8080/"
        },
        "id": "DjHayeUA253A",
        "outputId": "8bef6a0b-6dd5-4756-cd76-504b17cf1ed0"
      },
      "source": [
        "test_labels.iloc[46]"
      ],
      "execution_count": 32,
      "outputs": [
        {
          "output_type": "execute_result",
          "data": {
            "text/plain": [
              "1"
            ]
          },
          "metadata": {
            "tags": []
          },
          "execution_count": 32
        }
      ]
    },
    {
      "cell_type": "code",
      "metadata": {
        "colab": {
          "base_uri": "https://localhost:8080/",
          "height": 137
        },
        "id": "5REH_1S53OQg",
        "outputId": "0b8cf63b-4d56-46b1-f095-5c0d03242447"
      },
      "source": [
        "test_comments.iloc[46]"
      ],
      "execution_count": 33,
      "outputs": [
        {
          "output_type": "execute_result",
          "data": {
            "application/vnd.google.colaboratory.intrinsic+json": {
              "type": "string"
            },
            "text/plain": [
              "'i\\'m not here to rip on me3 just for the sake of doing so or because its what\\'s cool to do on the internet like so many others.basically me3 is the worst of the series in every way possible compared to the other 2 games because it doesn\\'t build or improve anything. it simply just tries to hurriedly finish the series for the sake of a cash in on the title.1- there is no sense ofi\\'m not here to rip on me3 just for the sake of doing so or because its what\\'s cool to do on the internet like so many others.basically me3 is the worst of the series in every way possible compared to the other 2 games because it doesn\\'t build or improve anything. it simply just tries to hurriedly finish the series for the sake of a cash in on the title.1- there is no sense of exploration. the game as efficiently as possible holds your hand every step the way and has you actually being on the ground doing things the least amount possible. side missions are carried out by quickly scanning a planet ala me2 and then firing a probe. that\\'s it. you don\\'t explore, you don\\'t get to check out uncharted worlds simply for the sake of curiosity or anything. scan, shoot probe, side mission done all without even leaving the galaxy map. this tactic accounts for the majority of side missions. me1 you could explore the galaxy drive around in that horribly handling buggy and had a sense of discovering things, me2 you could land on planets and explore doing side missions with some not even firing a single shot like the crashed cruiser balanced on the mountain peak but all of those things are gone in 3. the game just holds your hand and ushers you from mission to mission.2- you don\\'t get to actually chose anything, everything is pre determined for you. even if you chose the renegade or paragon path you get the exact same result and no one treats you differently and you get no alternative paths depending on your karma scale which makes it all incredibly pointless and just window dressing for the fact the story is entirely linear and so is your character.3- the characters are all the same ones, only less compelling. there are a couple new characters but they are highly disposable and not even worth messing with. james for instance is basically just a guy who talks 90% of the time like a generic white guy, 10% of the time he throws out some mexican phrases like saying \"loco\" a lot in his generic white guy trying to impersonate a mexican guy and he looks like he was taken from the show jersey shore. when a old character returns you can see it coming a mile away. for instance you go into a area where the mission briefing talks about geth then you can see 45 minutes before which old character is going to come back. all the characters themselves seem hollow and rushed, they lack the personality that made them endearing in the other games and most are there only long enough to be overly obvious in a very specific mission or they simply show up for 3 minutes of camera time practically winking at the player with a nod and then are gone.4- the story compared to the others sucks. the other games had side stories, character stories, side missions with their own short stories and so on. me3 on the other is basically this \"everything is going to be destroyed\". that\\'s pretty much it because no matter where you go or what you do its always about the war specifically and nothing else. i also got sick of hearing phrases like \"were here to save lives\", \"were doing this to save lives\", \"this weapon will save lives\", \"we need to stick together to save lives\", \"billions of lives are on the line and were here to save them\", etc and after about 8 hours i was sick of hearing about the war and saving lives.5- the game play was basically just one big shooting gallery and hiding behind chest high walls. every single fight is basically you hiding behind chest high walls to peak out and fire a few rounds only to hide back behind said wall. it was incredibly boring and has been done to death in dozens of other games. the combat was mindless and mediocre. it felt like they put absolutely no effort into the combat at all and rushed you through it in order to get to the next scene of hearing sheppard say \"saving lives\".6- the ending was atrocious. this is a series that prides itself on story, characters and dialogue. we all spent over 100 bucks playing all 3 games and spent over 100 hours playing all 3 games but bioware seemed to say \"this is the end of the trilogy so who cares about the ending\". the ending is the most important part of any story of any kind because its the very last thing you leave the person with and its supposed to be a reward, the climax to everything leading up till then, basically the ending is the most important part of any story. but the ending of me3 was over in just a minute or so despite the dozens of hours of dialogue, cut scenes and story in the rest of the series they got lazy at the end. it gives no satisfaction at all. i can honestly say it is the laziest segment of the series. i did like though they had the balls to do what they did with sheppard, but the ending still sucks and doesn\\'t make you glad to have finished the series.'"
            ]
          },
          "metadata": {
            "tags": []
          },
          "execution_count": 33
        }
      ]
    }
  ]
}