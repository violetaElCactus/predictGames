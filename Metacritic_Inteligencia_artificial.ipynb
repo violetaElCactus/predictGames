{
  "nbformat": 4,
  "nbformat_minor": 0,
  "metadata": {
    "colab": {
      "name": "Metacritic - Inteligencia artificial Cam.ipynb",
      "provenance": [],
      "collapsed_sections": [],
      "include_colab_link": true
    },
    "kernelspec": {
      "name": "python3",
      "display_name": "Python 3"
    },
    "language_info": {
      "name": "python"
    }
  },
  "cells": [
    {
      "cell_type": "markdown",
      "metadata": {
        "id": "view-in-github",
        "colab_type": "text"
      },
      "source": [
        "<a href=\"https://colab.research.google.com/github/violetaElCactus/predictGames/blob/main/Metacritic_Inteligencia_artificial.ipynb\" target=\"_parent\"><img src=\"https://colab.research.google.com/assets/colab-badge.svg\" alt=\"Open In Colab\"/></a>"
      ]
    },
    {
      "cell_type": "markdown",
      "metadata": {
        "id": "WvT3OkhOhjxL"
      },
      "source": [
        "#Importar librerías"
      ]
    },
    {
      "cell_type": "code",
      "metadata": {
        "id": "pJdcDVopfkyU",
        "colab": {
          "base_uri": "https://localhost:8080/"
        },
        "outputId": "a9826d7f-ccd2-4322-b56a-b35637e5ae6d"
      },
      "source": [
        "import pandas as pd\n",
        "import tensorflow as tf\n",
        "import numpy as np\n",
        "\n",
        "print(\"Tensorflow: \" + tf.__version__)"
      ],
      "execution_count": 1,
      "outputs": [
        {
          "output_type": "stream",
          "text": [
            "Tensorflow: 2.5.0\n"
          ],
          "name": "stdout"
        }
      ]
    },
    {
      "cell_type": "markdown",
      "metadata": {
        "id": "QdZECm6pi-mi"
      },
      "source": [
        "#Importar los datos"
      ]
    },
    {
      "cell_type": "code",
      "metadata": {
        "colab": {
          "base_uri": "https://localhost:8080/"
        },
        "id": "_tT8HS2tjCZZ",
        "outputId": "b60145d2-80cf-4657-ba44-76e246f7c45d"
      },
      "source": [
        "from google.colab import drive\n",
        "drive.mount('/content/drive')\n",
        "data_juegos = pd.read_csv(\"drive/My Drive/Colab Notebooks/metacritic_game_info.csv\")\n",
        "data_comentarios = pd.read_csv(\"drive/My Drive/Colab Notebooks/metacritic_game_user_comments.csv\")"
      ],
      "execution_count": 2,
      "outputs": [
        {
          "output_type": "stream",
          "text": [
            "Drive already mounted at /content/drive; to attempt to forcibly remount, call drive.mount(\"/content/drive\", force_remount=True).\n"
          ],
          "name": "stdout"
        }
      ]
    },
    {
      "cell_type": "markdown",
      "metadata": {
        "id": "kHLLoqomkY4M"
      },
      "source": [
        "##Información juegos"
      ]
    },
    {
      "cell_type": "code",
      "metadata": {
        "colab": {
          "base_uri": "https://localhost:8080/",
          "height": 495
        },
        "id": "7NqIWMy2jpBj",
        "outputId": "f59f1e0e-5a80-47a0-e2a6-aa7fd91a35ae"
      },
      "source": [
        "data_juegos.head(10)"
      ],
      "execution_count": 3,
      "outputs": [
        {
          "output_type": "execute_result",
          "data": {
            "text/html": [
              "<div>\n",
              "<style scoped>\n",
              "    .dataframe tbody tr th:only-of-type {\n",
              "        vertical-align: middle;\n",
              "    }\n",
              "\n",
              "    .dataframe tbody tr th {\n",
              "        vertical-align: top;\n",
              "    }\n",
              "\n",
              "    .dataframe thead th {\n",
              "        text-align: right;\n",
              "    }\n",
              "</style>\n",
              "<table border=\"1\" class=\"dataframe\">\n",
              "  <thead>\n",
              "    <tr style=\"text-align: right;\">\n",
              "      <th></th>\n",
              "      <th>Unnamed: 0</th>\n",
              "      <th>Title</th>\n",
              "      <th>Year</th>\n",
              "      <th>Publisher</th>\n",
              "      <th>Genre</th>\n",
              "      <th>Platform</th>\n",
              "      <th>Metascore</th>\n",
              "      <th>Avg_Userscore</th>\n",
              "      <th>No_Players</th>\n",
              "    </tr>\n",
              "  </thead>\n",
              "  <tbody>\n",
              "    <tr>\n",
              "      <th>0</th>\n",
              "      <td>0</td>\n",
              "      <td>The Legend of Zelda: Ocarina of Time</td>\n",
              "      <td>1998</td>\n",
              "      <td>Nintendo</td>\n",
              "      <td>Action Adventure;Fantasy</td>\n",
              "      <td>Nintendo64</td>\n",
              "      <td>99</td>\n",
              "      <td>9.1</td>\n",
              "      <td>1 Player</td>\n",
              "    </tr>\n",
              "    <tr>\n",
              "      <th>1</th>\n",
              "      <td>1</td>\n",
              "      <td>Tony Hawk's Pro Skater 2</td>\n",
              "      <td>2000</td>\n",
              "      <td>NeversoftEntertainment</td>\n",
              "      <td>Sports;Alternative;Skateboarding</td>\n",
              "      <td>PlayStation</td>\n",
              "      <td>98</td>\n",
              "      <td>7.4</td>\n",
              "      <td>1-2</td>\n",
              "    </tr>\n",
              "    <tr>\n",
              "      <th>2</th>\n",
              "      <td>2</td>\n",
              "      <td>Grand Theft Auto IV</td>\n",
              "      <td>2008</td>\n",
              "      <td>RockstarNorth</td>\n",
              "      <td>Action Adventure;Modern;Modern;Open-World</td>\n",
              "      <td>PlayStation3</td>\n",
              "      <td>98</td>\n",
              "      <td>7.5</td>\n",
              "      <td>1 Player</td>\n",
              "    </tr>\n",
              "    <tr>\n",
              "      <th>3</th>\n",
              "      <td>3</td>\n",
              "      <td>SoulCalibur</td>\n",
              "      <td>1999</td>\n",
              "      <td>Namco</td>\n",
              "      <td>Action;Fighting;3D</td>\n",
              "      <td>Dreamcast</td>\n",
              "      <td>98</td>\n",
              "      <td>8.6</td>\n",
              "      <td>1-2</td>\n",
              "    </tr>\n",
              "    <tr>\n",
              "      <th>4</th>\n",
              "      <td>4</td>\n",
              "      <td>Grand Theft Auto IV</td>\n",
              "      <td>2008</td>\n",
              "      <td>RockstarNorth</td>\n",
              "      <td>Action Adventure;Modern;Modern;Open-World</td>\n",
              "      <td>Xbox360</td>\n",
              "      <td>98</td>\n",
              "      <td>7.9</td>\n",
              "      <td>1 Player</td>\n",
              "    </tr>\n",
              "    <tr>\n",
              "      <th>5</th>\n",
              "      <td>5</td>\n",
              "      <td>Super Mario Galaxy</td>\n",
              "      <td>2007</td>\n",
              "      <td>Nintendo</td>\n",
              "      <td>Action;Platformer;Platformer;3D;3D</td>\n",
              "      <td>Wii</td>\n",
              "      <td>97</td>\n",
              "      <td>9.0</td>\n",
              "      <td>No Online Multiplayer</td>\n",
              "    </tr>\n",
              "    <tr>\n",
              "      <th>6</th>\n",
              "      <td>6</td>\n",
              "      <td>Super Mario Galaxy 2</td>\n",
              "      <td>2010</td>\n",
              "      <td>NintendoEADTokyo</td>\n",
              "      <td>Action;Platformer;Platformer;3D;3D</td>\n",
              "      <td>Wii</td>\n",
              "      <td>97</td>\n",
              "      <td>9.1</td>\n",
              "      <td>No Online Multiplayer</td>\n",
              "    </tr>\n",
              "    <tr>\n",
              "      <th>7</th>\n",
              "      <td>7</td>\n",
              "      <td>Grand Theft Auto V</td>\n",
              "      <td>2014</td>\n",
              "      <td>RockstarNorth</td>\n",
              "      <td>Action Adventure;Modern;Open-World</td>\n",
              "      <td>XboxOne</td>\n",
              "      <td>97</td>\n",
              "      <td>7.8</td>\n",
              "      <td>Up to 30</td>\n",
              "    </tr>\n",
              "    <tr>\n",
              "      <th>8</th>\n",
              "      <td>8</td>\n",
              "      <td>Grand Theft Auto V</td>\n",
              "      <td>2013</td>\n",
              "      <td>RockstarNorth</td>\n",
              "      <td>Modern;Action Adventure;Modern;Open-World</td>\n",
              "      <td>PlayStation3</td>\n",
              "      <td>97</td>\n",
              "      <td>8.3</td>\n",
              "      <td>Up to 16</td>\n",
              "    </tr>\n",
              "    <tr>\n",
              "      <th>9</th>\n",
              "      <td>9</td>\n",
              "      <td>Grand Theft Auto V</td>\n",
              "      <td>2013</td>\n",
              "      <td>RockstarNorth</td>\n",
              "      <td>Modern;Action Adventure;Modern;Open-World</td>\n",
              "      <td>Xbox360</td>\n",
              "      <td>97</td>\n",
              "      <td>8.3</td>\n",
              "      <td>Up to 16</td>\n",
              "    </tr>\n",
              "  </tbody>\n",
              "</table>\n",
              "</div>"
            ],
            "text/plain": [
              "   Unnamed: 0  ...             No_Players\n",
              "0           0  ...               1 Player\n",
              "1           1  ...                   1-2 \n",
              "2           2  ...               1 Player\n",
              "3           3  ...                   1-2 \n",
              "4           4  ...               1 Player\n",
              "5           5  ...  No Online Multiplayer\n",
              "6           6  ...  No Online Multiplayer\n",
              "7           7  ...              Up to 30 \n",
              "8           8  ...              Up to 16 \n",
              "9           9  ...              Up to 16 \n",
              "\n",
              "[10 rows x 9 columns]"
            ]
          },
          "metadata": {
            "tags": []
          },
          "execution_count": 3
        }
      ]
    },
    {
      "cell_type": "markdown",
      "metadata": {
        "id": "3YyGQtS1kbpH"
      },
      "source": [
        "##Información comentarios"
      ]
    },
    {
      "cell_type": "code",
      "metadata": {
        "colab": {
          "base_uri": "https://localhost:8080/",
          "height": 359
        },
        "id": "Ycb26goBkd_s",
        "outputId": "96e82d8e-5cac-4bfd-ff51-6aac2080e97a"
      },
      "source": [
        "data_comentarios.head(10)"
      ],
      "execution_count": 4,
      "outputs": [
        {
          "output_type": "execute_result",
          "data": {
            "text/html": [
              "<div>\n",
              "<style scoped>\n",
              "    .dataframe tbody tr th:only-of-type {\n",
              "        vertical-align: middle;\n",
              "    }\n",
              "\n",
              "    .dataframe tbody tr th {\n",
              "        vertical-align: top;\n",
              "    }\n",
              "\n",
              "    .dataframe thead th {\n",
              "        text-align: right;\n",
              "    }\n",
              "</style>\n",
              "<table border=\"1\" class=\"dataframe\">\n",
              "  <thead>\n",
              "    <tr style=\"text-align: right;\">\n",
              "      <th></th>\n",
              "      <th>Unnamed: 0</th>\n",
              "      <th>Title</th>\n",
              "      <th>Platform</th>\n",
              "      <th>Userscore</th>\n",
              "      <th>Comment</th>\n",
              "      <th>Username</th>\n",
              "    </tr>\n",
              "  </thead>\n",
              "  <tbody>\n",
              "    <tr>\n",
              "      <th>0</th>\n",
              "      <td>0</td>\n",
              "      <td>The Legend of Zelda: Ocarina of Time</td>\n",
              "      <td>Nintendo64</td>\n",
              "      <td>10</td>\n",
              "      <td>Everything in OoT is so near at perfection, it...</td>\n",
              "      <td>SirCaestus</td>\n",
              "    </tr>\n",
              "    <tr>\n",
              "      <th>1</th>\n",
              "      <td>1</td>\n",
              "      <td>The Legend of Zelda: Ocarina of Time</td>\n",
              "      <td>Nintendo64</td>\n",
              "      <td>10</td>\n",
              "      <td>I won't bore you with what everyone is already...</td>\n",
              "      <td>Kaistlin</td>\n",
              "    </tr>\n",
              "    <tr>\n",
              "      <th>2</th>\n",
              "      <td>2</td>\n",
              "      <td>The Legend of Zelda: Ocarina of Time</td>\n",
              "      <td>Nintendo64</td>\n",
              "      <td>10</td>\n",
              "      <td>Anyone who gives the masterpiece below a 7 or ...</td>\n",
              "      <td>Jacody</td>\n",
              "    </tr>\n",
              "    <tr>\n",
              "      <th>3</th>\n",
              "      <td>3</td>\n",
              "      <td>The Legend of Zelda: Ocarina of Time</td>\n",
              "      <td>Nintendo64</td>\n",
              "      <td>10</td>\n",
              "      <td>I'm one of those people who think that this is...</td>\n",
              "      <td>doodlerman</td>\n",
              "    </tr>\n",
              "    <tr>\n",
              "      <th>4</th>\n",
              "      <td>4</td>\n",
              "      <td>The Legend of Zelda: Ocarina of Time</td>\n",
              "      <td>Nintendo64</td>\n",
              "      <td>10</td>\n",
              "      <td>This game is the highest rated game on Metacr...</td>\n",
              "      <td>StevenA</td>\n",
              "    </tr>\n",
              "    <tr>\n",
              "      <th>5</th>\n",
              "      <td>5</td>\n",
              "      <td>The Legend of Zelda: Ocarina of Time</td>\n",
              "      <td>Nintendo64</td>\n",
              "      <td>10</td>\n",
              "      <td>I think it's funny that you have Zelda haters ...</td>\n",
              "      <td>joei1382</td>\n",
              "    </tr>\n",
              "    <tr>\n",
              "      <th>6</th>\n",
              "      <td>6</td>\n",
              "      <td>The Legend of Zelda: Ocarina of Time</td>\n",
              "      <td>Nintendo64</td>\n",
              "      <td>9</td>\n",
              "      <td>I played A Link To The Past so many times in m...</td>\n",
              "      <td>Corvix</td>\n",
              "    </tr>\n",
              "    <tr>\n",
              "      <th>7</th>\n",
              "      <td>7</td>\n",
              "      <td>The Legend of Zelda: Ocarina of Time</td>\n",
              "      <td>Nintendo64</td>\n",
              "      <td>10</td>\n",
              "      <td>The Legend of Zelda: Ocarina of Time is withou...</td>\n",
              "      <td>pittsburghboy91</td>\n",
              "    </tr>\n",
              "    <tr>\n",
              "      <th>8</th>\n",
              "      <td>8</td>\n",
              "      <td>The Legend of Zelda: Ocarina of Time</td>\n",
              "      <td>Nintendo64</td>\n",
              "      <td>10</td>\n",
              "      <td>This review contains spoilers, cli...</td>\n",
              "      <td>Nosidda89</td>\n",
              "    </tr>\n",
              "    <tr>\n",
              "      <th>9</th>\n",
              "      <td>9</td>\n",
              "      <td>The Legend of Zelda: Ocarina of Time</td>\n",
              "      <td>Nintendo64</td>\n",
              "      <td>10</td>\n",
              "      <td>I'm not kidding when I say that this is the on...</td>\n",
              "      <td>Regeneration13</td>\n",
              "    </tr>\n",
              "  </tbody>\n",
              "</table>\n",
              "</div>"
            ],
            "text/plain": [
              "   Unnamed: 0  ...         Username\n",
              "0           0  ...       SirCaestus\n",
              "1           1  ...         Kaistlin\n",
              "2           2  ...           Jacody\n",
              "3           3  ...       doodlerman\n",
              "4           4  ...          StevenA\n",
              "5           5  ...         joei1382\n",
              "6           6  ...           Corvix\n",
              "7           7  ...  pittsburghboy91\n",
              "8           8  ...        Nosidda89\n",
              "9           9  ...   Regeneration13\n",
              "\n",
              "[10 rows x 6 columns]"
            ]
          },
          "metadata": {
            "tags": []
          },
          "execution_count": 4
        }
      ]
    },
    {
      "cell_type": "code",
      "metadata": {
        "id": "E4ZJ0NiPmz-j"
      },
      "source": [
        "data_comentarios = data_comentarios[data_comentarios['Comment'].str.len() > 280] #Comentario más largo que un Tweet.\n"
      ],
      "execution_count": 5,
      "outputs": []
    },
    {
      "cell_type": "code",
      "metadata": {
        "id": "QZBRuImP3Rzd"
      },
      "source": [
        "data_comentarios = data_comentarios[data_comentarios['Comment'].map(lambda x: x.isascii())]\n"
      ],
      "execution_count": 6,
      "outputs": []
    },
    {
      "cell_type": "code",
      "metadata": {
        "id": "6oN1VoFTFseI"
      },
      "source": [
        "data_comentarios[\"Comment\"] = data_comentarios[\"Comment\"].str.lower()\n"
      ],
      "execution_count": 7,
      "outputs": []
    },
    {
      "cell_type": "code",
      "metadata": {
        "id": "pFE4AG7j3YXE"
      },
      "source": [
        "df1 = data_comentarios.iloc[:60000]"
      ],
      "execution_count": 8,
      "outputs": []
    },
    {
      "cell_type": "code",
      "metadata": {
        "colab": {
          "base_uri": "https://localhost:8080/"
        },
        "id": "oQkzD4_Gw1fb",
        "outputId": "f418b4bc-c1ee-4967-d98b-60083320d1e7"
      },
      "source": [
        "len(df1)"
      ],
      "execution_count": 9,
      "outputs": [
        {
          "output_type": "execute_result",
          "data": {
            "text/plain": [
              "60000"
            ]
          },
          "metadata": {
            "tags": []
          },
          "execution_count": 9
        }
      ]
    },
    {
      "cell_type": "code",
      "metadata": {
        "id": "Gsb0ADz_3drs",
        "colab": {
          "base_uri": "https://localhost:8080/"
        },
        "outputId": "c75f16c4-661b-4184-f49b-eee4e47fc8c8"
      },
      "source": [
        "df1.drop(['Unnamed: 0','Username','Title','Platform'], axis=1, inplace=True)\n"
      ],
      "execution_count": 10,
      "outputs": [
        {
          "output_type": "stream",
          "text": [
            "/usr/local/lib/python3.7/dist-packages/pandas/core/frame.py:4174: SettingWithCopyWarning: \n",
            "A value is trying to be set on a copy of a slice from a DataFrame\n",
            "\n",
            "See the caveats in the documentation: https://pandas.pydata.org/pandas-docs/stable/user_guide/indexing.html#returning-a-view-versus-a-copy\n",
            "  errors=errors,\n"
          ],
          "name": "stderr"
        }
      ]
    },
    {
      "cell_type": "code",
      "metadata": {
        "colab": {
          "base_uri": "https://localhost:8080/",
          "height": 359
        },
        "id": "NeJWfShE4lI1",
        "outputId": "c9c5e789-8a92-4f0a-d1cd-511ccc051185"
      },
      "source": [
        "df1.head(10)\n"
      ],
      "execution_count": 11,
      "outputs": [
        {
          "output_type": "execute_result",
          "data": {
            "text/html": [
              "<div>\n",
              "<style scoped>\n",
              "    .dataframe tbody tr th:only-of-type {\n",
              "        vertical-align: middle;\n",
              "    }\n",
              "\n",
              "    .dataframe tbody tr th {\n",
              "        vertical-align: top;\n",
              "    }\n",
              "\n",
              "    .dataframe thead th {\n",
              "        text-align: right;\n",
              "    }\n",
              "</style>\n",
              "<table border=\"1\" class=\"dataframe\">\n",
              "  <thead>\n",
              "    <tr style=\"text-align: right;\">\n",
              "      <th></th>\n",
              "      <th>Userscore</th>\n",
              "      <th>Comment</th>\n",
              "    </tr>\n",
              "  </thead>\n",
              "  <tbody>\n",
              "    <tr>\n",
              "      <th>2</th>\n",
              "      <td>10</td>\n",
              "      <td>anyone who gives the masterpiece below a 7 or ...</td>\n",
              "    </tr>\n",
              "    <tr>\n",
              "      <th>3</th>\n",
              "      <td>10</td>\n",
              "      <td>i'm one of those people who think that this is...</td>\n",
              "    </tr>\n",
              "    <tr>\n",
              "      <th>4</th>\n",
              "      <td>10</td>\n",
              "      <td>this game is the highest rated game on metacr...</td>\n",
              "    </tr>\n",
              "    <tr>\n",
              "      <th>5</th>\n",
              "      <td>10</td>\n",
              "      <td>i think it's funny that you have zelda haters ...</td>\n",
              "    </tr>\n",
              "    <tr>\n",
              "      <th>7</th>\n",
              "      <td>10</td>\n",
              "      <td>the legend of zelda: ocarina of time is withou...</td>\n",
              "    </tr>\n",
              "    <tr>\n",
              "      <th>8</th>\n",
              "      <td>10</td>\n",
              "      <td>this review contains spoilers, cli...</td>\n",
              "    </tr>\n",
              "    <tr>\n",
              "      <th>9</th>\n",
              "      <td>10</td>\n",
              "      <td>i'm not kidding when i say that this is the on...</td>\n",
              "    </tr>\n",
              "    <tr>\n",
              "      <th>10</th>\n",
              "      <td>10</td>\n",
              "      <td>essentially one of the best games of all time,...</td>\n",
              "    </tr>\n",
              "    <tr>\n",
              "      <th>11</th>\n",
              "      <td>10</td>\n",
              "      <td>this is the perfect game ! no doubt. the gamep...</td>\n",
              "    </tr>\n",
              "    <tr>\n",
              "      <th>16</th>\n",
              "      <td>10</td>\n",
              "      <td>amazing game in every aspect, i just want to ...</td>\n",
              "    </tr>\n",
              "  </tbody>\n",
              "</table>\n",
              "</div>"
            ],
            "text/plain": [
              "    Userscore                                            Comment\n",
              "2          10  anyone who gives the masterpiece below a 7 or ...\n",
              "3          10  i'm one of those people who think that this is...\n",
              "4          10   this game is the highest rated game on metacr...\n",
              "5          10  i think it's funny that you have zelda haters ...\n",
              "7          10  the legend of zelda: ocarina of time is withou...\n",
              "8          10              this review contains spoilers, cli...\n",
              "9          10  i'm not kidding when i say that this is the on...\n",
              "10         10  essentially one of the best games of all time,...\n",
              "11         10  this is the perfect game ! no doubt. the gamep...\n",
              "16         10   amazing game in every aspect, i just want to ..."
            ]
          },
          "metadata": {
            "tags": []
          },
          "execution_count": 11
        }
      ]
    },
    {
      "cell_type": "code",
      "metadata": {
        "id": "3qQzxBCy5Gtm"
      },
      "source": [
        ""
      ],
      "execution_count": 11,
      "outputs": []
    },
    {
      "cell_type": "markdown",
      "metadata": {
        "id": "KkxonvM-GLnA"
      },
      "source": [
        "#Dividir los datos en entrenamiento, validación y prueba\n",
        "\n",
        "\n"
      ]
    },
    {
      "cell_type": "code",
      "metadata": {
        "id": "bx154zm9GNnN"
      },
      "source": [
        "train, validate, test = np.split(df1.sample(frac=1), [int(.7*len(df1)), int(.8*len(df1))])\n"
      ],
      "execution_count": 12,
      "outputs": []
    },
    {
      "cell_type": "code",
      "metadata": {
        "id": "EpPFfvTXNv04"
      },
      "source": [
        "train_comments = train['Comment']\n",
        "train_labels = train['Userscore']\n",
        "validate_comments = validate['Comment']\n",
        "validate_labels = validate['Userscore']\n",
        "test_comments = test['Comment']\n",
        "test_labels = test['Userscore']"
      ],
      "execution_count": 13,
      "outputs": []
    },
    {
      "cell_type": "markdown",
      "metadata": {
        "id": "Tv5guVQjRq9N"
      },
      "source": [
        "#Tokenizer\n"
      ]
    },
    {
      "cell_type": "code",
      "metadata": {
        "id": "gchiozDHStaL"
      },
      "source": [
        "import keras\n",
        "from keras.preprocessing.text import Tokenizer\n"
      ],
      "execution_count": 14,
      "outputs": []
    },
    {
      "cell_type": "code",
      "metadata": {
        "id": "EANmRKRZRg2U"
      },
      "source": [
        "vocab_size = 12000\n",
        "tokenize = Tokenizer(num_words=vocab_size, char_level=False)\n",
        "tokenize.fit_on_texts(train_comments)\n",
        "sequences = tokenize.texts_to_sequences(train_comments)"
      ],
      "execution_count": 15,
      "outputs": []
    },
    {
      "cell_type": "code",
      "metadata": {
        "id": "uK3_F3yTq4D1"
      },
      "source": [
        "matrix = tokenize.texts_to_matrix(train_comments, mode = 'binary')"
      ],
      "execution_count": 17,
      "outputs": []
    },
    {
      "cell_type": "code",
      "metadata": {
        "id": "tdsMxbegujsy"
      },
      "source": [
        "max_seq_length = 280\n",
        "sequences = keras.preprocessing.sequence.pad_sequences(\n",
        "        sequences, maxlen=max_seq_length, padding=\"post\"\n",
        "    )"
      ],
      "execution_count": 18,
      "outputs": []
    },
    {
      "cell_type": "markdown",
      "metadata": {
        "id": "hC1gMoMFUXsW"
      },
      "source": [
        "#Modelo"
      ]
    },
    {
      "cell_type": "code",
      "metadata": {
        "id": "dnntIn3ZTMOC"
      },
      "source": [
        "from tensorflow.keras import models\n",
        "from tensorflow.keras import layers\n",
        "from tensorflow.keras.utils import to_categorical"
      ],
      "execution_count": 20,
      "outputs": []
    },
    {
      "cell_type": "code",
      "metadata": {
        "id": "8upzlqpiUpwA"
      },
      "source": [
        "y_train_vec = to_categorical(train_labels, num_classes=11)\n",
        "y_validate_vec = to_categorical(validate_labels,num_classes=11)\n",
        "y_test_vec = to_categorical(test_labels,num_classes=11)"
      ],
      "execution_count": 21,
      "outputs": []
    },
    {
      "cell_type": "code",
      "metadata": {
        "id": "TlgLmsbc09YN"
      },
      "source": [
        "modelMtx = models.Sequential()\n",
        "modelMtx.add(layers.Dense(256,activation='relu',input_shape=(12000,)))\n",
        "modelMtx.add(layers.Dense(11, activation='softmax'))\n",
        "modelMtx.compile(loss='mse', optimizer='adam', metrics=['accuracy'])"
      ],
      "execution_count": 48,
      "outputs": []
    },
    {
      "cell_type": "code",
      "metadata": {
        "colab": {
          "base_uri": "https://localhost:8080/"
        },
        "id": "1pfm1PQR1lIQ",
        "outputId": "3108bdb7-54e3-4044-80cc-42e6fd8d3377"
      },
      "source": [
        "modelMtx.fit(matrix, y_train_vec, epochs=4)"
      ],
      "execution_count": 49,
      "outputs": [
        {
          "output_type": "stream",
          "text": [
            "Epoch 1/4\n",
            "1313/1313 [==============================] - 35s 26ms/step - loss: 0.0530 - accuracy: 0.5351\n",
            "Epoch 2/4\n",
            "1313/1313 [==============================] - 34s 26ms/step - loss: 0.0415 - accuracy: 0.6556\n",
            "Epoch 3/4\n",
            "1313/1313 [==============================] - 34s 26ms/step - loss: 0.0266 - accuracy: 0.8010\n",
            "Epoch 4/4\n",
            "1313/1313 [==============================] - 34s 26ms/step - loss: 0.0138 - accuracy: 0.9046\n"
          ],
          "name": "stdout"
        },
        {
          "output_type": "execute_result",
          "data": {
            "text/plain": [
              "<tensorflow.python.keras.callbacks.History at 0x7ff860709350>"
            ]
          },
          "metadata": {
            "tags": []
          },
          "execution_count": 49
        }
      ]
    },
    {
      "cell_type": "markdown",
      "metadata": {
        "id": "uWr2TNH9096B"
      },
      "source": [
        "#Prueba"
      ]
    },
    {
      "cell_type": "code",
      "metadata": {
        "id": "LN6UtQ3byLCL"
      },
      "source": [
        "vocab_size = 12000\n",
        "tokenize = Tokenizer(num_words=vocab_size, char_level=False)\n",
        "tokenize.fit_on_texts(train_comments)\n",
        "x_test_vec = tokenize.texts_to_sequences(test_comments)"
      ],
      "execution_count": 50,
      "outputs": []
    },
    {
      "cell_type": "code",
      "metadata": {
        "id": "FmpOkFUi2W1t"
      },
      "source": [
        "x_test_vec_mtx = tokenize.texts_to_matrix(test_comments)"
      ],
      "execution_count": 51,
      "outputs": []
    },
    {
      "cell_type": "code",
      "metadata": {
        "id": "In-c3KxLzAdr"
      },
      "source": [
        "x_test_vec = keras.preprocessing.sequence.pad_sequences(\n",
        "        x_test_vec, maxlen=max_seq_length, padding=\"post\"\n",
        "    )"
      ],
      "execution_count": 52,
      "outputs": []
    },
    {
      "cell_type": "code",
      "metadata": {
        "id": "bG7kB_1Kx7ae"
      },
      "source": [
        "\n",
        "#predictions = model.predict(x_test_vec)"
      ],
      "execution_count": 32,
      "outputs": []
    },
    {
      "cell_type": "code",
      "metadata": {
        "id": "O0bo2tU_2ijU"
      },
      "source": [
        "predictionsMtx = modelMtx.predict(x_test_vec_mtx)"
      ],
      "execution_count": 53,
      "outputs": []
    },
    {
      "cell_type": "code",
      "metadata": {
        "colab": {
          "base_uri": "https://localhost:8080/"
        },
        "id": "3pFu7LxtzIE8",
        "outputId": "aac8af6c-4620-4726-8e1b-73044d4802e3"
      },
      "source": [
        "np.argmax(predictionsMtx[7459])"
      ],
      "execution_count": 58,
      "outputs": [
        {
          "output_type": "execute_result",
          "data": {
            "text/plain": [
              "9"
            ]
          },
          "metadata": {
            "tags": []
          },
          "execution_count": 58
        }
      ]
    },
    {
      "cell_type": "code",
      "metadata": {
        "colab": {
          "base_uri": "https://localhost:8080/"
        },
        "id": "DjHayeUA253A",
        "outputId": "0f881460-0786-43f1-bc7d-f0a13c2e39b9"
      },
      "source": [
        "test_labels.iloc[7459]"
      ],
      "execution_count": 59,
      "outputs": [
        {
          "output_type": "execute_result",
          "data": {
            "text/plain": [
              "9"
            ]
          },
          "metadata": {
            "tags": []
          },
          "execution_count": 59
        }
      ]
    },
    {
      "cell_type": "code",
      "metadata": {
        "colab": {
          "base_uri": "https://localhost:8080/",
          "height": 137
        },
        "id": "5REH_1S53OQg",
        "outputId": "400ef2d8-3c0c-4a5b-d13c-6e9bc1343bc0"
      },
      "source": [
        "test_comments.iloc[7457]"
      ],
      "execution_count": 47,
      "outputs": [
        {
          "output_type": "execute_result",
          "data": {
            "application/vnd.google.colaboratory.intrinsic+json": {
              "type": "string"
            },
            "text/plain": [
              "\" first off, if your a reviewer, don't give a game a perfect score but then say it is almost perfect, give it a 9. to rate and compare this game one must look at other games of this type, hack and slash platformer! comparisons should be done with similar games such as the very under developed dante. if only dante would have been done on this grand of a scale!! most of the game is first off, if your a reviewer, don't give a game a perfect score but then say it is almost perfect, give it a 9. to rate and compare this game one must look at other games of this type, hack and slash platformer! comparisons should be done with similar games such as the very under developed dante. if only dante would have been done on this grand of a scale!! most of the game is action platforming with very few moments of just holding the controller and doing nothing. the cut scenes feel like they are in the appropriate places and don't interrupt the flow of the game. the quick time events seem appropriate with keying together the right button pushes at the right time. i did find myself wishing that someone else could do the quick time events so i could focus on watching the gorgeous gore and mayhem. one quick time event involved a rock band or gh comparison as you had to press buttons in a musical order to accomplish a task, i felt this was a poor attempt to be like rock band and did not need to be in the game. the biggest issue i have with the game was the camera! this seems to be a problem in all 3d spaced platformers! i died more then a few times due to a poor camera placement, but this is something i am accustomed to in these types of games, but until developers get this fixed a perfect score is out of the question...and should be for all reviewers. settling for poor camera and giving a game a perfect score is telling developers it is ok to accept bad camera angles because it will be ignored. if you enjoy hack and slash platforming then this game is for you. replay is very low, as it is on all platformers, unless your a trophy or achievement hunter. dlc would be a welcome infusion to this type of game, giving it life long after shelf birthing and would keep people from rushing to trade in this game and flooding the market with used copies! so camera angle -1 assumed no dlc or very little -1 8 out of 10...a definite must buy!\""
            ]
          },
          "metadata": {
            "tags": []
          },
          "execution_count": 47
        }
      ]
    }
  ]
}