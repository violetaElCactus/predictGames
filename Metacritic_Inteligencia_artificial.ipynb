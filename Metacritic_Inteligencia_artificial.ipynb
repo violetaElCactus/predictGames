{
  "nbformat": 4,
  "nbformat_minor": 0,
  "metadata": {
    "colab": {
      "name": "Metacritic - Inteligencia artificial Cam.ipynb",
      "provenance": [],
      "collapsed_sections": [],
      "include_colab_link": true
    },
    "kernelspec": {
      "name": "python3",
      "display_name": "Python 3"
    },
    "language_info": {
      "name": "python"
    },
    "accelerator": "TPU"
  },
  "cells": [
    {
      "cell_type": "markdown",
      "metadata": {
        "id": "view-in-github",
        "colab_type": "text"
      },
      "source": [
        "<a href=\"https://colab.research.google.com/github/violetaElCactus/predictGames/blob/main/Metacritic_Inteligencia_artificial.ipynb\" target=\"_parent\"><img src=\"https://colab.research.google.com/assets/colab-badge.svg\" alt=\"Open In Colab\"/></a>"
      ]
    },
    {
      "cell_type": "markdown",
      "metadata": {
        "id": "WvT3OkhOhjxL"
      },
      "source": [
        "#Importar librerías"
      ]
    },
    {
      "cell_type": "code",
      "metadata": {
        "id": "pJdcDVopfkyU",
        "colab": {
          "base_uri": "https://localhost:8080/"
        },
        "outputId": "f4929d5d-07d4-4f06-e3a6-d7dc52bc0a4f"
      },
      "source": [
        "import pandas as pd\n",
        "import tensorflow as tf\n",
        "import numpy as np\n",
        "\n",
        "print(\"Tensorflow: \" + tf.__version__)"
      ],
      "execution_count": 1,
      "outputs": [
        {
          "output_type": "stream",
          "text": [
            "Tensorflow: 2.5.0\n"
          ],
          "name": "stdout"
        }
      ]
    },
    {
      "cell_type": "markdown",
      "metadata": {
        "id": "QdZECm6pi-mi"
      },
      "source": [
        "#Importar los datos"
      ]
    },
    {
      "cell_type": "code",
      "metadata": {
        "colab": {
          "base_uri": "https://localhost:8080/"
        },
        "id": "_tT8HS2tjCZZ",
        "outputId": "c66fb0ab-01be-4855-b0b0-a58d6aef90b5"
      },
      "source": [
        "from google.colab import drive\n",
        "drive.mount('/content/drive')\n",
        "#data_juegos = pd.read_csv(\"drive/My Drive/Colab Notebooks/metacritic_game_info.csv\")\n",
        "data_comentarios = pd.read_csv(\"drive/My Drive/Colab Notebooks/metacritic_game_user_comments.csv\")"
      ],
      "execution_count": 2,
      "outputs": [
        {
          "output_type": "stream",
          "text": [
            "Mounted at /content/drive\n"
          ],
          "name": "stdout"
        }
      ]
    },
    {
      "cell_type": "markdown",
      "metadata": {
        "id": "kHLLoqomkY4M"
      },
      "source": [
        "##Información juegos"
      ]
    },
    {
      "cell_type": "code",
      "metadata": {
        "id": "7NqIWMy2jpBj"
      },
      "source": [
        "#data_juegos.head(10)"
      ],
      "execution_count": 3,
      "outputs": []
    },
    {
      "cell_type": "markdown",
      "metadata": {
        "id": "3YyGQtS1kbpH"
      },
      "source": [
        "##Información comentarios"
      ]
    },
    {
      "cell_type": "code",
      "metadata": {
        "colab": {
          "base_uri": "https://localhost:8080/",
          "height": 348
        },
        "id": "Ycb26goBkd_s",
        "outputId": "cb8265e0-693f-4008-8dbd-c51a06930976"
      },
      "source": [
        "data_comentarios.head(10)"
      ],
      "execution_count": 4,
      "outputs": [
        {
          "output_type": "execute_result",
          "data": {
            "text/html": [
              "<div>\n",
              "<style scoped>\n",
              "    .dataframe tbody tr th:only-of-type {\n",
              "        vertical-align: middle;\n",
              "    }\n",
              "\n",
              "    .dataframe tbody tr th {\n",
              "        vertical-align: top;\n",
              "    }\n",
              "\n",
              "    .dataframe thead th {\n",
              "        text-align: right;\n",
              "    }\n",
              "</style>\n",
              "<table border=\"1\" class=\"dataframe\">\n",
              "  <thead>\n",
              "    <tr style=\"text-align: right;\">\n",
              "      <th></th>\n",
              "      <th>Unnamed: 0</th>\n",
              "      <th>Title</th>\n",
              "      <th>Platform</th>\n",
              "      <th>Userscore</th>\n",
              "      <th>Comment</th>\n",
              "      <th>Username</th>\n",
              "    </tr>\n",
              "  </thead>\n",
              "  <tbody>\n",
              "    <tr>\n",
              "      <th>0</th>\n",
              "      <td>0</td>\n",
              "      <td>The Legend of Zelda: Ocarina of Time</td>\n",
              "      <td>Nintendo64</td>\n",
              "      <td>10</td>\n",
              "      <td>Everything in OoT is so near at perfection, it...</td>\n",
              "      <td>SirCaestus</td>\n",
              "    </tr>\n",
              "    <tr>\n",
              "      <th>1</th>\n",
              "      <td>1</td>\n",
              "      <td>The Legend of Zelda: Ocarina of Time</td>\n",
              "      <td>Nintendo64</td>\n",
              "      <td>10</td>\n",
              "      <td>I won't bore you with what everyone is already...</td>\n",
              "      <td>Kaistlin</td>\n",
              "    </tr>\n",
              "    <tr>\n",
              "      <th>2</th>\n",
              "      <td>2</td>\n",
              "      <td>The Legend of Zelda: Ocarina of Time</td>\n",
              "      <td>Nintendo64</td>\n",
              "      <td>10</td>\n",
              "      <td>Anyone who gives the masterpiece below a 7 or ...</td>\n",
              "      <td>Jacody</td>\n",
              "    </tr>\n",
              "    <tr>\n",
              "      <th>3</th>\n",
              "      <td>3</td>\n",
              "      <td>The Legend of Zelda: Ocarina of Time</td>\n",
              "      <td>Nintendo64</td>\n",
              "      <td>10</td>\n",
              "      <td>I'm one of those people who think that this is...</td>\n",
              "      <td>doodlerman</td>\n",
              "    </tr>\n",
              "    <tr>\n",
              "      <th>4</th>\n",
              "      <td>4</td>\n",
              "      <td>The Legend of Zelda: Ocarina of Time</td>\n",
              "      <td>Nintendo64</td>\n",
              "      <td>10</td>\n",
              "      <td>This game is the highest rated game on Metacr...</td>\n",
              "      <td>StevenA</td>\n",
              "    </tr>\n",
              "    <tr>\n",
              "      <th>5</th>\n",
              "      <td>5</td>\n",
              "      <td>The Legend of Zelda: Ocarina of Time</td>\n",
              "      <td>Nintendo64</td>\n",
              "      <td>10</td>\n",
              "      <td>I think it's funny that you have Zelda haters ...</td>\n",
              "      <td>joei1382</td>\n",
              "    </tr>\n",
              "    <tr>\n",
              "      <th>6</th>\n",
              "      <td>6</td>\n",
              "      <td>The Legend of Zelda: Ocarina of Time</td>\n",
              "      <td>Nintendo64</td>\n",
              "      <td>9</td>\n",
              "      <td>I played A Link To The Past so many times in m...</td>\n",
              "      <td>Corvix</td>\n",
              "    </tr>\n",
              "    <tr>\n",
              "      <th>7</th>\n",
              "      <td>7</td>\n",
              "      <td>The Legend of Zelda: Ocarina of Time</td>\n",
              "      <td>Nintendo64</td>\n",
              "      <td>10</td>\n",
              "      <td>The Legend of Zelda: Ocarina of Time is withou...</td>\n",
              "      <td>pittsburghboy91</td>\n",
              "    </tr>\n",
              "    <tr>\n",
              "      <th>8</th>\n",
              "      <td>8</td>\n",
              "      <td>The Legend of Zelda: Ocarina of Time</td>\n",
              "      <td>Nintendo64</td>\n",
              "      <td>10</td>\n",
              "      <td>This review contains spoilers, cli...</td>\n",
              "      <td>Nosidda89</td>\n",
              "    </tr>\n",
              "    <tr>\n",
              "      <th>9</th>\n",
              "      <td>9</td>\n",
              "      <td>The Legend of Zelda: Ocarina of Time</td>\n",
              "      <td>Nintendo64</td>\n",
              "      <td>10</td>\n",
              "      <td>I'm not kidding when I say that this is the on...</td>\n",
              "      <td>Regeneration13</td>\n",
              "    </tr>\n",
              "  </tbody>\n",
              "</table>\n",
              "</div>"
            ],
            "text/plain": [
              "   Unnamed: 0  ...         Username\n",
              "0           0  ...       SirCaestus\n",
              "1           1  ...         Kaistlin\n",
              "2           2  ...           Jacody\n",
              "3           3  ...       doodlerman\n",
              "4           4  ...          StevenA\n",
              "5           5  ...         joei1382\n",
              "6           6  ...           Corvix\n",
              "7           7  ...  pittsburghboy91\n",
              "8           8  ...        Nosidda89\n",
              "9           9  ...   Regeneration13\n",
              "\n",
              "[10 rows x 6 columns]"
            ]
          },
          "metadata": {
            "tags": []
          },
          "execution_count": 4
        }
      ]
    },
    {
      "cell_type": "code",
      "metadata": {
        "colab": {
          "base_uri": "https://localhost:8080/",
          "height": 370
        },
        "id": "hdfSAMNQHSht",
        "outputId": "bfd5d3a7-f4c2-4c65-aadd-07e218634b40"
      },
      "source": [
        "import seaborn as sns\n",
        "\n",
        "temp=pd.DataFrame(data_comentarios.Userscore.value_counts())\n",
        "temp.sort_index(inplace=True)\n",
        "temp.columns=['Number of reviews']\n",
        "clrs=['red' if (x > 5000) else 'lightcoral' for x in temp['Number of reviews'] ] #highlight bars\n",
        "sns.countplot(data=data_comentarios,x='Userscore',palette=clrs) \n",
        "print(temp.T)\n",
        "print('Mean score: ', data_comentarios.Userscore.mean())"
      ],
      "execution_count": 5,
      "outputs": [
        {
          "output_type": "stream",
          "text": [
            "                      0     1     2     3   ...     7      8      9       10\n",
            "Number of reviews  20120  7318  5983  7118  ...  17052  30271  53489  112531\n",
            "\n",
            "[1 rows x 11 columns]\n",
            "Mean score:  7.6183081381632\n"
          ],
          "name": "stdout"
        },
        {
          "output_type": "display_data",
          "data": {
            "image/png": "[encoded data removed]",
            "text/plain": [
              "<Figure size 432x288 with 1 Axes>"
            ]
          },
          "metadata": {
            "tags": [],
            "needs_background": "light"
          }
        }
      ]
    },
    {
      "cell_type": "code",
      "metadata": {
        "id": "E4ZJ0NiPmz-j"
      },
      "source": [
        "data_comentarios = data_comentarios[data_comentarios['Comment'].str.len() > 280] #Comentario más largo que un Tweet.\n"
      ],
      "execution_count": 6,
      "outputs": []
    },
    {
      "cell_type": "code",
      "metadata": {
        "id": "QZBRuImP3Rzd"
      },
      "source": [
        "data_comentarios = data_comentarios[data_comentarios['Comment'].map(lambda x: x.isascii())]\n"
      ],
      "execution_count": 7,
      "outputs": []
    },
    {
      "cell_type": "code",
      "metadata": {
        "id": "6oN1VoFTFseI"
      },
      "source": [
        "data_comentarios[\"Comment\"] = data_comentarios[\"Comment\"].str.lower()\n"
      ],
      "execution_count": 8,
      "outputs": []
    },
    {
      "cell_type": "code",
      "metadata": {
        "id": "pFE4AG7j3YXE"
      },
      "source": [
        "df1 = data_comentarios.iloc[:60000]"
      ],
      "execution_count": 9,
      "outputs": []
    },
    {
      "cell_type": "code",
      "metadata": {
        "colab": {
          "base_uri": "https://localhost:8080/"
        },
        "id": "oQkzD4_Gw1fb",
        "outputId": "a1960cb4-a67a-48cf-94a8-f37348759ffa"
      },
      "source": [
        "len(df1)"
      ],
      "execution_count": 10,
      "outputs": [
        {
          "output_type": "execute_result",
          "data": {
            "text/plain": [
              "60000"
            ]
          },
          "metadata": {
            "tags": []
          },
          "execution_count": 10
        }
      ]
    },
    {
      "cell_type": "code",
      "metadata": {
        "id": "Gsb0ADz_3drs"
      },
      "source": [
        "df1.drop(['Unnamed: 0','Username','Title','Platform'], axis=1, inplace=True)\n"
      ],
      "execution_count": 11,
      "outputs": []
    },
    {
      "cell_type": "code",
      "metadata": {
        "colab": {
          "base_uri": "https://localhost:8080/",
          "height": 348
        },
        "id": "NeJWfShE4lI1",
        "outputId": "1b497b0f-c51c-4559-c06c-af983bb90a48"
      },
      "source": [
        "df1.head(10)\n"
      ],
      "execution_count": 12,
      "outputs": [
        {
          "output_type": "execute_result",
          "data": {
            "text/html": [
              "<div>\n",
              "<style scoped>\n",
              "    .dataframe tbody tr th:only-of-type {\n",
              "        vertical-align: middle;\n",
              "    }\n",
              "\n",
              "    .dataframe tbody tr th {\n",
              "        vertical-align: top;\n",
              "    }\n",
              "\n",
              "    .dataframe thead th {\n",
              "        text-align: right;\n",
              "    }\n",
              "</style>\n",
              "<table border=\"1\" class=\"dataframe\">\n",
              "  <thead>\n",
              "    <tr style=\"text-align: right;\">\n",
              "      <th></th>\n",
              "      <th>Userscore</th>\n",
              "      <th>Comment</th>\n",
              "    </tr>\n",
              "  </thead>\n",
              "  <tbody>\n",
              "    <tr>\n",
              "      <th>2</th>\n",
              "      <td>10</td>\n",
              "      <td>anyone who gives the masterpiece below a 7 or ...</td>\n",
              "    </tr>\n",
              "    <tr>\n",
              "      <th>3</th>\n",
              "      <td>10</td>\n",
              "      <td>i'm one of those people who think that this is...</td>\n",
              "    </tr>\n",
              "    <tr>\n",
              "      <th>4</th>\n",
              "      <td>10</td>\n",
              "      <td>this game is the highest rated game on metacr...</td>\n",
              "    </tr>\n",
              "    <tr>\n",
              "      <th>5</th>\n",
              "      <td>10</td>\n",
              "      <td>i think it's funny that you have zelda haters ...</td>\n",
              "    </tr>\n",
              "    <tr>\n",
              "      <th>7</th>\n",
              "      <td>10</td>\n",
              "      <td>the legend of zelda: ocarina of time is withou...</td>\n",
              "    </tr>\n",
              "    <tr>\n",
              "      <th>8</th>\n",
              "      <td>10</td>\n",
              "      <td>this review contains spoilers, cli...</td>\n",
              "    </tr>\n",
              "    <tr>\n",
              "      <th>9</th>\n",
              "      <td>10</td>\n",
              "      <td>i'm not kidding when i say that this is the on...</td>\n",
              "    </tr>\n",
              "    <tr>\n",
              "      <th>10</th>\n",
              "      <td>10</td>\n",
              "      <td>essentially one of the best games of all time,...</td>\n",
              "    </tr>\n",
              "    <tr>\n",
              "      <th>11</th>\n",
              "      <td>10</td>\n",
              "      <td>this is the perfect game ! no doubt. the gamep...</td>\n",
              "    </tr>\n",
              "    <tr>\n",
              "      <th>16</th>\n",
              "      <td>10</td>\n",
              "      <td>amazing game in every aspect, i just want to ...</td>\n",
              "    </tr>\n",
              "  </tbody>\n",
              "</table>\n",
              "</div>"
            ],
            "text/plain": [
              "    Userscore                                            Comment\n",
              "2          10  anyone who gives the masterpiece below a 7 or ...\n",
              "3          10  i'm one of those people who think that this is...\n",
              "4          10   this game is the highest rated game on metacr...\n",
              "5          10  i think it's funny that you have zelda haters ...\n",
              "7          10  the legend of zelda: ocarina of time is withou...\n",
              "8          10              this review contains spoilers, cli...\n",
              "9          10  i'm not kidding when i say that this is the on...\n",
              "10         10  essentially one of the best games of all time,...\n",
              "11         10  this is the perfect game ! no doubt. the gamep...\n",
              "16         10   amazing game in every aspect, i just want to ..."
            ]
          },
          "metadata": {
            "tags": []
          },
          "execution_count": 12
        }
      ]
    },
    {
      "cell_type": "markdown",
      "metadata": {
        "id": "KkxonvM-GLnA"
      },
      "source": [
        "#Dividir los datos en entrenamiento, validación y prueba\n",
        "\n",
        "\n"
      ]
    },
    {
      "cell_type": "code",
      "metadata": {
        "id": "bx154zm9GNnN"
      },
      "source": [
        "train, validate, test = np.split(df1.sample(frac=1), [int(.7*len(df1)), int(.8*len(df1))])\n"
      ],
      "execution_count": 13,
      "outputs": []
    },
    {
      "cell_type": "code",
      "metadata": {
        "id": "EpPFfvTXNv04"
      },
      "source": [
        "train_comments = train['Comment']\n",
        "train_labels = train['Userscore']\n",
        "validate_comments = validate['Comment']\n",
        "validate_labels = validate['Userscore']\n",
        "test_comments = test['Comment']\n",
        "test_labels = test['Userscore']"
      ],
      "execution_count": 14,
      "outputs": []
    },
    {
      "cell_type": "markdown",
      "metadata": {
        "id": "Tv5guVQjRq9N"
      },
      "source": [
        "#Tokenizer\n"
      ]
    },
    {
      "cell_type": "code",
      "metadata": {
        "id": "gchiozDHStaL"
      },
      "source": [
        "import keras\n",
        "from keras.preprocessing.text import Tokenizer\n"
      ],
      "execution_count": 15,
      "outputs": []
    },
    {
      "cell_type": "code",
      "metadata": {
        "id": "EANmRKRZRg2U"
      },
      "source": [
        "vocab_size = 12000\n",
        "tokenize = Tokenizer(num_words=vocab_size, char_level=False)\n",
        "tokenize.fit_on_texts(df1['Comment'])"
      ],
      "execution_count": 16,
      "outputs": []
    },
    {
      "cell_type": "code",
      "metadata": {
        "id": "uK3_F3yTq4D1"
      },
      "source": [
        "matrix = tokenize.texts_to_matrix(train_comments, mode = 'binary')"
      ],
      "execution_count": 17,
      "outputs": []
    },
    {
      "cell_type": "code",
      "metadata": {
        "id": "ry5eE0kKU8Vo"
      },
      "source": [
        "matrixVal = tokenize.texts_to_matrix(validate_comments, mode = 'binary')"
      ],
      "execution_count": 18,
      "outputs": []
    },
    {
      "cell_type": "code",
      "metadata": {
        "id": "CNxjCl7uVEYl"
      },
      "source": [
        "matrixTest = tokenize.texts_to_matrix(test_comments, mode = 'binary')"
      ],
      "execution_count": 19,
      "outputs": []
    },
    {
      "cell_type": "markdown",
      "metadata": {
        "id": "hC1gMoMFUXsW"
      },
      "source": [
        "#Modelo"
      ]
    },
    {
      "cell_type": "code",
      "metadata": {
        "id": "dnntIn3ZTMOC"
      },
      "source": [
        "from tensorflow.keras import models\n",
        "from tensorflow.keras import layers\n",
        "from tensorflow.keras.utils import to_categorical\n",
        "from tensorflow.keras.layers import Dropout, Dense\n",
        "from tensorflow.keras.callbacks import EarlyStopping \n",
        "from tensorflow.keras import regularizers"
      ],
      "execution_count": 20,
      "outputs": []
    },
    {
      "cell_type": "code",
      "metadata": {
        "id": "7bDCCFCwmF8N"
      },
      "source": [
        "es = EarlyStopping(monitor='val_accuracy', mode='max', patience= 3, verbose= 1)"
      ],
      "execution_count": 21,
      "outputs": []
    },
    {
      "cell_type": "code",
      "metadata": {
        "id": "8upzlqpiUpwA"
      },
      "source": [
        "#y_train_vec = to_categorical(train_labels, num_classes=11)\n",
        "#y_validate_vec = to_categorical(validate_labels,num_classes=11)\n",
        "#y_test_vec = to_categorical(test_labels,num_classes=11)"
      ],
      "execution_count": 22,
      "outputs": []
    },
    {
      "cell_type": "code",
      "metadata": {
        "id": "dYtW2oiIrhpj"
      },
      "source": [
        "train_lab_sp = np.array(train_labels)\n",
        "val_lab_sp = np.array(validate_labels)\n",
        "test_lab_sp = np.array(test_labels)"
      ],
      "execution_count": 23,
      "outputs": []
    },
    {
      "cell_type": "code",
      "metadata": {
        "id": "TlgLmsbc09YN"
      },
      "source": [
        "modelMtx = models.Sequential()\n",
        "modelMtx.add(layers.Dense(16, kernel_regularizer=regularizers.l2(0.001), activation='relu', input_shape=(12000,)))\n",
        "modelMtx.add(layers.Dense(16,activation='relu'))\n",
        "modelMtx.add(layers.Dense(16,activation='relu'))\n",
        "modelMtx.add(layers.Dense(11, activation='softmax'))\n",
        "modelMtx.compile(loss='sparse_categorical_crossentropy', optimizer='adam', metrics=['accuracy'])"
      ],
      "execution_count": 155,
      "outputs": []
    },
    {
      "cell_type": "code",
      "metadata": {
        "colab": {
          "base_uri": "https://localhost:8080/"
        },
        "id": "1pfm1PQR1lIQ",
        "outputId": "60211abd-7843-44a7-a218-6b678bced476"
      },
      "source": [
        "history = modelMtx.fit(matrix, train_lab_sp, epochs=20, validation_data=(matrixVal,val_lab_sp), callbacks= [es])"
      ],
      "execution_count": 156,
      "outputs": [
        {
          "output_type": "stream",
          "text": [
            "Epoch 1/20\n",
            "1313/1313 [==============================] - 10s 7ms/step - loss: 1.4379 - accuracy: 0.5119 - val_loss: 1.3168 - val_accuracy: 0.5395\n",
            "Epoch 2/20\n",
            "1313/1313 [==============================] - 8s 6ms/step - loss: 1.2469 - accuracy: 0.5651 - val_loss: 1.3147 - val_accuracy: 0.5387\n",
            "Epoch 3/20\n",
            "1313/1313 [==============================] - 8s 6ms/step - loss: 1.2079 - accuracy: 0.5855 - val_loss: 1.3468 - val_accuracy: 0.5458\n",
            "Epoch 4/20\n",
            "1313/1313 [==============================] - 11s 8ms/step - loss: 1.1785 - accuracy: 0.6010 - val_loss: 1.3594 - val_accuracy: 0.5415\n",
            "Epoch 5/20\n",
            "1313/1313 [==============================] - 13s 10ms/step - loss: 1.1601 - accuracy: 0.6110 - val_loss: 1.4034 - val_accuracy: 0.5325\n",
            "Epoch 6/20\n",
            "1313/1313 [==============================] - 11s 8ms/step - loss: 1.1411 - accuracy: 0.6242 - val_loss: 1.4249 - val_accuracy: 0.5352\n",
            "Epoch 00006: early stopping\n"
          ],
          "name": "stdout"
        }
      ]
    },
    {
      "cell_type": "markdown",
      "metadata": {
        "id": "je3j4Mo9SfrC"
      },
      "source": [
        "#Evaluación del modelo\n"
      ]
    },
    {
      "cell_type": "code",
      "metadata": {
        "colab": {
          "base_uri": "https://localhost:8080/"
        },
        "id": "P0gu93LWSio9",
        "outputId": "35669bad-27c4-42b6-ba24-d055ac2f6c86"
      },
      "source": [
        "m = modelMtx.evaluate(matrixTest, test_lab_sp)"
      ],
      "execution_count": 151,
      "outputs": [
        {
          "output_type": "stream",
          "text": [
            "375/375 [==============================] - 2s 4ms/step - loss: 1.6009 - accuracy: 0.5190\n"
          ],
          "name": "stdout"
        }
      ]
    },
    {
      "cell_type": "code",
      "metadata": {
        "colab": {
          "base_uri": "https://localhost:8080/"
        },
        "id": "jxHwS62dTZkB",
        "outputId": "09a51748-bcf4-4a6f-a3fb-1b08183dd239"
      },
      "source": [
        "m"
      ],
      "execution_count": 152,
      "outputs": [
        {
          "output_type": "execute_result",
          "data": {
            "text/plain": [
              "[1.6008784770965576, 0.5189999938011169]"
            ]
          },
          "metadata": {
            "tags": []
          },
          "execution_count": 152
        }
      ]
    },
    {
      "cell_type": "markdown",
      "metadata": {
        "id": "uWr2TNH9096B"
      },
      "source": [
        "#Prueba"
      ]
    },
    {
      "cell_type": "code",
      "metadata": {
        "id": "O0bo2tU_2ijU"
      },
      "source": [
        "predictionsMtx = modelMtx.predict(matrixTest)"
      ],
      "execution_count": 27,
      "outputs": []
    },
    {
      "cell_type": "code",
      "metadata": {
        "colab": {
          "base_uri": "https://localhost:8080/"
        },
        "id": "3pFu7LxtzIE8",
        "outputId": "9c036d42-c294-4cb1-857c-c42be53137d3"
      },
      "source": [
        "np.argmax(predictionsMtx[2])\n"
      ],
      "execution_count": 28,
      "outputs": [
        {
          "output_type": "execute_result",
          "data": {
            "text/plain": [
              "9"
            ]
          },
          "metadata": {
            "tags": []
          },
          "execution_count": 28
        }
      ]
    },
    {
      "cell_type": "code",
      "metadata": {
        "colab": {
          "base_uri": "https://localhost:8080/"
        },
        "id": "5dAww-8zqdZo",
        "outputId": "903b7b3e-5767-4a31-ec11-1d7688a10652"
      },
      "source": [
        "predictionsMtx[2]"
      ],
      "execution_count": 33,
      "outputs": [
        {
          "output_type": "execute_result",
          "data": {
            "text/plain": [
              "array([0.01680903, 0.01529054, 0.00903402, 0.01860028, 0.02724466,\n",
              "       0.03264217, 0.06134888, 0.13550746, 0.2135496 , 0.25004417,\n",
              "       0.21992922], dtype=float32)"
            ]
          },
          "metadata": {
            "tags": []
          },
          "execution_count": 33
        }
      ]
    },
    {
      "cell_type": "code",
      "metadata": {
        "colab": {
          "base_uri": "https://localhost:8080/"
        },
        "id": "DjHayeUA253A",
        "outputId": "007cc106-5299-4588-f973-8a9d27cd6bbd"
      },
      "source": [
        "test_labels.iloc[2]"
      ],
      "execution_count": 29,
      "outputs": [
        {
          "output_type": "execute_result",
          "data": {
            "text/plain": [
              "8"
            ]
          },
          "metadata": {
            "tags": []
          },
          "execution_count": 29
        }
      ]
    },
    {
      "cell_type": "code",
      "metadata": {
        "colab": {
          "base_uri": "https://localhost:8080/",
          "height": 69
        },
        "id": "5REH_1S53OQg",
        "outputId": "3c8247b0-c785-4c74-f148-189bc2f0af43"
      },
      "source": [
        "test_comments.iloc[2]"
      ],
      "execution_count": 30,
      "outputs": [
        {
          "output_type": "execute_result",
          "data": {
            "application/vnd.google.colaboratory.intrinsic+json": {
              "type": "string"
            },
            "text/plain": [
              "\"most of all in this game i enjoyed storyline. one thing disappointed me, some things were similar to dragon age:inquisition. so the game was not innovational as it should had to be. also witcher 3: wild hunt loses its gameplay at its finest if you don't choose last game mode(death march). other modes just give you experience to enjoy only landscapes and trees. also fps sometimes drops.\""
            ]
          },
          "metadata": {
            "tags": []
          },
          "execution_count": 30
        }
      ]
    },
    {
      "cell_type": "code",
      "metadata": {
        "colab": {
          "base_uri": "https://localhost:8080/"
        },
        "id": "XOok3JzXzDQn",
        "outputId": "b30c9bc7-90b6-4c24-e8a1-2cc49684b0c7"
      },
      "source": [
        "suma = 0\n",
        "for i in range(len(predictionsMtx)):\n",
        "  suma += abs(np.argmax(predictionsMtx[i]) - test_labels.iloc[i])\n",
        "error = suma/len(predictionsMtx)\n",
        "print(error)  "
      ],
      "execution_count": 31,
      "outputs": [
        {
          "output_type": "stream",
          "text": [
            "1.1\n"
          ],
          "name": "stdout"
        }
      ]
    },
    {
      "cell_type": "code",
      "metadata": {
        "id": "0Ju27KhtpMYN"
      },
      "source": [
        "import matplotlib.pyplot as plt"
      ],
      "execution_count": 138,
      "outputs": []
    },
    {
      "cell_type": "code",
      "metadata": {
        "id": "tRQNGiZN6gQI"
      },
      "source": [
        "usuario = []\n",
        "predict = []\n",
        "usuario = range(0,len(test_lab_sp))\n",
        "for i in range(0, len(test_lab_sp)):\n",
        "  predict.append(np.argmax(predictionsMtx[i]))\n"
      ],
      "execution_count": 142,
      "outputs": []
    },
    {
      "cell_type": "code",
      "metadata": {
        "colab": {
          "base_uri": "https://localhost:8080/",
          "height": 206
        },
        "id": "mL7pLsbZpVhv",
        "outputId": "73d9a865-a6e9-4dc2-f7b4-58cb4b45a360"
      },
      "source": [
        "fig = plt.figure(figsize=(20, 3))\n",
        "ax= fig.add_subplot()\n",
        "plt.tight_layout()\n",
        "plt.plot(usuario[:100],predict[:100],'bo', label = 'Valor predicho')\n",
        "plt.plot(usuario[:100],test_lab_sp[:100],'ro', label = 'Valor real')\n",
        "plt.xlabel('Usuario')\n",
        "plt.ylabel('Valor')\n",
        "plt.legend()\n",
        "plt.show()"
      ],
      "execution_count": 150,
      "outputs": [
        {
          "output_type": "display_data",
          "data": {
            "image/png": "[encoded data removed]",
            "text/plain": [
              "<Figure size 1440x216 with 1 Axes>"
            ]
          },
          "metadata": {
            "tags": [],
            "needs_background": "light"
          }
        }
      ]
    },
    {
      "cell_type": "code",
      "metadata": {
        "colab": {
          "base_uri": "https://localhost:8080/",
          "height": 161
        },
        "id": "kwhZfGHms4Vl",
        "outputId": "9bf1a4a8-6786-4a37-b35d-44b74750aef9"
      },
      "source": [
        "fig = plt.figure(figsize=(20, 2))\n",
        "ax = fig.add_subplot()"
      ],
      "execution_count": 65,
      "outputs": [
        {
          "output_type": "display_data",
          "data": {
            "image/png": "[encoded data removed]",
            "text/plain": [
              "<Figure size 1440x144 with 1 Axes>"
            ]
          },
          "metadata": {
            "tags": [],
            "needs_background": "light"
          }
        }
      ]
    }
  ]
}